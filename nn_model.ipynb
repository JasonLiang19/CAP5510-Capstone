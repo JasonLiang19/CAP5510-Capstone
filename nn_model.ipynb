{
 "cells": [
  {
   "cell_type": "markdown",
   "id": "b14c40b0",
   "metadata": {
    "papermill": {
     "duration": 0.013357,
     "end_time": "2024-01-09T21:10:08.285461",
     "exception": false,
     "start_time": "2024-01-09T21:10:08.272104",
     "status": "completed"
    },
    "tags": []
   },
   "source": [
    "# INM701: Neural Networks (Part 1, Original Data)\n",
    "\n",
    "We look at using TensorFlow/Keras to create a neural network that can accurately predict protein secondary structures.\n",
    "\n",
    "This notebook is specifically for the original data without any oversampling.\n",
    "\n",
    "The work presented here is part of the coursework of the INM701 module at City, University of London. The Github repository can be found [here](https://github.com/yasirbarlas/City-INM701)."
   ]
  },
  {
   "cell_type": "markdown",
   "id": "8fdf1d45",
   "metadata": {
    "papermill": {
     "duration": 0.012577,
     "end_time": "2024-01-09T21:10:08.311163",
     "exception": false,
     "start_time": "2024-01-09T21:10:08.298586",
     "status": "completed"
    },
    "tags": []
   },
   "source": [
    "### Import Libraries"
   ]
  },
  {
   "cell_type": "code",
   "execution_count": 57,
   "id": "b895b918",
   "metadata": {
    "papermill": {
     "duration": 12.093582,
     "end_time": "2024-01-09T21:10:20.417269",
     "exception": false,
     "start_time": "2024-01-09T21:10:08.323687",
     "status": "completed"
    },
    "tags": []
   },
   "outputs": [],
   "source": [
    "# Import Relevant Libraries\n",
    "import os\n",
    "import numpy as np\n",
    "import pandas as pd\n",
    "import random\n",
    "import matplotlib.pyplot as plt\n",
    "import tensorflow as tf\n",
    "from tensorflow.keras.saving import register_keras_serializable\n",
    "\n",
    "# Ignore warnings (making the work easier to read)\n",
    "import warnings\n",
    "warnings.filterwarnings(\"ignore\")"
   ]
  },
  {
   "cell_type": "markdown",
   "id": "38b17e8f",
   "metadata": {
    "papermill": {
     "duration": 0.013027,
     "end_time": "2024-01-09T21:10:20.443984",
     "exception": false,
     "start_time": "2024-01-09T21:10:20.430957",
     "status": "completed"
    },
    "tags": []
   },
   "source": [
    "### Import Dataset\n",
    "\n",
    "Refer to the 'eda-data-processing.ipynb' workbook for more detail on how this dataset was created."
   ]
  },
  {
   "cell_type": "code",
   "execution_count": 2,
   "id": "b65c3205",
   "metadata": {
    "papermill": {
     "duration": 0.136454,
     "end_time": "2024-01-09T21:10:20.593535",
     "exception": false,
     "start_time": "2024-01-09T21:10:20.457081",
     "status": "completed"
    },
    "tags": []
   },
   "outputs": [
    {
     "data": {
      "text/html": [
       "<div>\n",
       "<style scoped>\n",
       "    .dataframe tbody tr th:only-of-type {\n",
       "        vertical-align: middle;\n",
       "    }\n",
       "\n",
       "    .dataframe tbody tr th {\n",
       "        vertical-align: top;\n",
       "    }\n",
       "\n",
       "    .dataframe thead th {\n",
       "        text-align: right;\n",
       "    }\n",
       "</style>\n",
       "<table border=\"1\" class=\"dataframe\">\n",
       "  <thead>\n",
       "    <tr style=\"text-align: right;\">\n",
       "      <th></th>\n",
       "      <th>pdb_id</th>\n",
       "      <th>chain_code</th>\n",
       "      <th>seq</th>\n",
       "      <th>sst8</th>\n",
       "      <th>sst3</th>\n",
       "      <th>len</th>\n",
       "      <th>has_nonstd_aa</th>\n",
       "      <th>Exptl.</th>\n",
       "      <th>resolution</th>\n",
       "      <th>R-factor</th>\n",
       "      <th>FreeRvalue</th>\n",
       "    </tr>\n",
       "  </thead>\n",
       "  <tbody>\n",
       "    <tr>\n",
       "      <th>0</th>\n",
       "      <td>1FV1</td>\n",
       "      <td>F</td>\n",
       "      <td>NPVVHFFKNIVTPRTPPPSQ</td>\n",
       "      <td>CCCCCBCCCCCCCCCCCCCC</td>\n",
       "      <td>CCCCCECCCCCCCCCCCCCC</td>\n",
       "      <td>20</td>\n",
       "      <td>False</td>\n",
       "      <td>XRAY</td>\n",
       "      <td>1.90</td>\n",
       "      <td>0.23</td>\n",
       "      <td>0.27</td>\n",
       "    </tr>\n",
       "    <tr>\n",
       "      <th>1</th>\n",
       "      <td>1LM8</td>\n",
       "      <td>H</td>\n",
       "      <td>DLDLEMLAPYIPMDDDFQLR</td>\n",
       "      <td>CCCCCCCCCBCCSCCCEECC</td>\n",
       "      <td>CCCCCCCCCECCCCCCEECC</td>\n",
       "      <td>20</td>\n",
       "      <td>False</td>\n",
       "      <td>XRAY</td>\n",
       "      <td>1.85</td>\n",
       "      <td>0.20</td>\n",
       "      <td>0.24</td>\n",
       "    </tr>\n",
       "    <tr>\n",
       "      <th>2</th>\n",
       "      <td>1O06</td>\n",
       "      <td>A</td>\n",
       "      <td>EEDPDLKAAIQESLREAEEA</td>\n",
       "      <td>CCCHHHHHHHHHHHHHHHTC</td>\n",
       "      <td>CCCHHHHHHHHHHHHHHHCC</td>\n",
       "      <td>20</td>\n",
       "      <td>False</td>\n",
       "      <td>XRAY</td>\n",
       "      <td>1.45</td>\n",
       "      <td>0.19</td>\n",
       "      <td>0.22</td>\n",
       "    </tr>\n",
       "    <tr>\n",
       "      <th>3</th>\n",
       "      <td>1QOW</td>\n",
       "      <td>D</td>\n",
       "      <td>CTFTLPGGGGVCTLTSECI*</td>\n",
       "      <td>CCTTSCTTCSSTTSSTTCCC</td>\n",
       "      <td>CCCCCCCCCCCCCCCCCCCC</td>\n",
       "      <td>20</td>\n",
       "      <td>True</td>\n",
       "      <td>XRAY</td>\n",
       "      <td>1.06</td>\n",
       "      <td>0.14</td>\n",
       "      <td>1.00</td>\n",
       "    </tr>\n",
       "    <tr>\n",
       "      <th>4</th>\n",
       "      <td>1RDQ</td>\n",
       "      <td>I</td>\n",
       "      <td>TTYADFIASGRTGRRNAIHD</td>\n",
       "      <td>CHHHHHHTSSCSSCCCCEEC</td>\n",
       "      <td>CHHHHHHCCCCCCCCCCEEC</td>\n",
       "      <td>20</td>\n",
       "      <td>False</td>\n",
       "      <td>XRAY</td>\n",
       "      <td>1.26</td>\n",
       "      <td>0.13</td>\n",
       "      <td>0.16</td>\n",
       "    </tr>\n",
       "    <tr>\n",
       "      <th>...</th>\n",
       "      <td>...</td>\n",
       "      <td>...</td>\n",
       "      <td>...</td>\n",
       "      <td>...</td>\n",
       "      <td>...</td>\n",
       "      <td>...</td>\n",
       "      <td>...</td>\n",
       "      <td>...</td>\n",
       "      <td>...</td>\n",
       "      <td>...</td>\n",
       "      <td>...</td>\n",
       "    </tr>\n",
       "    <tr>\n",
       "      <th>9073</th>\n",
       "      <td>4LGY</td>\n",
       "      <td>A</td>\n",
       "      <td>GDGLVPRGSHMMEILRGSPALSAFRINKLLARFQAANLQVHNIYAE...</td>\n",
       "      <td>CCEEEEETTEEEEEEEEEECCCHHHHHHHHHHHHHTTCCCCEEEEE...</td>\n",
       "      <td>CCEEEEECCEEEEEEEEEECCCHHHHHHHHHHHHHCCCCCCEEEEE...</td>\n",
       "      <td>1305</td>\n",
       "      <td>False</td>\n",
       "      <td>XRAY</td>\n",
       "      <td>1.48</td>\n",
       "      <td>0.14</td>\n",
       "      <td>0.17</td>\n",
       "    </tr>\n",
       "    <tr>\n",
       "      <th>9074</th>\n",
       "      <td>5XH6</td>\n",
       "      <td>A</td>\n",
       "      <td>GSHMTQFEGFTNLYQVSKTLRFELIPQGKTLKHIQEQGFIEEDKAR...</td>\n",
       "      <td>CCCCCCGGGCBSSSCEEEEEEEEEEECTTHHHHHHHHTHHHHHHHH...</td>\n",
       "      <td>CCCCCCHHHCECCCCEEEEEEEEEEECCCHHHHHHHHCHHHHHHHH...</td>\n",
       "      <td>1310</td>\n",
       "      <td>False</td>\n",
       "      <td>XRAY</td>\n",
       "      <td>2.00</td>\n",
       "      <td>0.18</td>\n",
       "      <td>0.21</td>\n",
       "    </tr>\n",
       "    <tr>\n",
       "      <th>9075</th>\n",
       "      <td>5B2R</td>\n",
       "      <td>B</td>\n",
       "      <td>GSGHMDKKYSIGLAIGTNSVGWAVITDEYKVPSKKFKVLGNTDRHS...</td>\n",
       "      <td>CCCCCCCCCEEEEEECSSEEEEEEECTTSCCCEEEEEEEESSSCCE...</td>\n",
       "      <td>CCCCCCCCCEEEEEECCCEEEEEEECCCCCCCEEEEEEEECCCCCE...</td>\n",
       "      <td>1372</td>\n",
       "      <td>False</td>\n",
       "      <td>XRAY</td>\n",
       "      <td>2.00</td>\n",
       "      <td>0.20</td>\n",
       "      <td>0.23</td>\n",
       "    </tr>\n",
       "    <tr>\n",
       "      <th>9076</th>\n",
       "      <td>5WLH</td>\n",
       "      <td>A</td>\n",
       "      <td>SNAMKISKVREENRGAKLTVNAKTAVVSENRSQEGILYNDPSRYGK...</td>\n",
       "      <td>CCCCCCCCCCCCCCCCCTTSSEEEEEEESSSCEEEEEEESSCCTTT...</td>\n",
       "      <td>CCCCCCCCCCCCCCCCCCCCCEEEEEEECCCCEEEEEEECCCCCCC...</td>\n",
       "      <td>1440</td>\n",
       "      <td>False</td>\n",
       "      <td>XRAY</td>\n",
       "      <td>1.80</td>\n",
       "      <td>0.19</td>\n",
       "      <td>0.22</td>\n",
       "    </tr>\n",
       "    <tr>\n",
       "      <th>9077</th>\n",
       "      <td>5B2P</td>\n",
       "      <td>A</td>\n",
       "      <td>GSHMNFKILPIAIDLGVKNTGVFSAFYQKGTSLERLDNKNGKVYEL...</td>\n",
       "      <td>CCCCCEEECCEEEEECSSEEEEEEECEETTEEGGGCCCEEEEEEEE...</td>\n",
       "      <td>CCCCCEEECCEEEEECCCEEEEEEECEECCEEHHHCCCEEEEEEEE...</td>\n",
       "      <td>1632</td>\n",
       "      <td>False</td>\n",
       "      <td>XRAY</td>\n",
       "      <td>1.70</td>\n",
       "      <td>0.18</td>\n",
       "      <td>0.20</td>\n",
       "    </tr>\n",
       "  </tbody>\n",
       "</table>\n",
       "<p>9078 rows × 11 columns</p>\n",
       "</div>"
      ],
      "text/plain": [
       "     pdb_id chain_code                                                seq  \\\n",
       "0      1FV1          F                               NPVVHFFKNIVTPRTPPPSQ   \n",
       "1      1LM8          H                               DLDLEMLAPYIPMDDDFQLR   \n",
       "2      1O06          A                               EEDPDLKAAIQESLREAEEA   \n",
       "3      1QOW          D                               CTFTLPGGGGVCTLTSECI*   \n",
       "4      1RDQ          I                               TTYADFIASGRTGRRNAIHD   \n",
       "...     ...        ...                                                ...   \n",
       "9073   4LGY          A  GDGLVPRGSHMMEILRGSPALSAFRINKLLARFQAANLQVHNIYAE...   \n",
       "9074   5XH6          A  GSHMTQFEGFTNLYQVSKTLRFELIPQGKTLKHIQEQGFIEEDKAR...   \n",
       "9075   5B2R          B  GSGHMDKKYSIGLAIGTNSVGWAVITDEYKVPSKKFKVLGNTDRHS...   \n",
       "9076   5WLH          A  SNAMKISKVREENRGAKLTVNAKTAVVSENRSQEGILYNDPSRYGK...   \n",
       "9077   5B2P          A  GSHMNFKILPIAIDLGVKNTGVFSAFYQKGTSLERLDNKNGKVYEL...   \n",
       "\n",
       "                                                   sst8  \\\n",
       "0                                  CCCCCBCCCCCCCCCCCCCC   \n",
       "1                                  CCCCCCCCCBCCSCCCEECC   \n",
       "2                                  CCCHHHHHHHHHHHHHHHTC   \n",
       "3                                  CCTTSCTTCSSTTSSTTCCC   \n",
       "4                                  CHHHHHHTSSCSSCCCCEEC   \n",
       "...                                                 ...   \n",
       "9073  CCEEEEETTEEEEEEEEEECCCHHHHHHHHHHHHHTTCCCCEEEEE...   \n",
       "9074  CCCCCCGGGCBSSSCEEEEEEEEEEECTTHHHHHHHHTHHHHHHHH...   \n",
       "9075  CCCCCCCCCEEEEEECSSEEEEEEECTTSCCCEEEEEEEESSSCCE...   \n",
       "9076  CCCCCCCCCCCCCCCCCTTSSEEEEEEESSSCEEEEEEESSCCTTT...   \n",
       "9077  CCCCCEEECCEEEEECSSEEEEEEECEETTEEGGGCCCEEEEEEEE...   \n",
       "\n",
       "                                                   sst3   len  has_nonstd_aa  \\\n",
       "0                                  CCCCCECCCCCCCCCCCCCC    20          False   \n",
       "1                                  CCCCCCCCCECCCCCCEECC    20          False   \n",
       "2                                  CCCHHHHHHHHHHHHHHHCC    20          False   \n",
       "3                                  CCCCCCCCCCCCCCCCCCCC    20           True   \n",
       "4                                  CHHHHHHCCCCCCCCCCEEC    20          False   \n",
       "...                                                 ...   ...            ...   \n",
       "9073  CCEEEEECCEEEEEEEEEECCCHHHHHHHHHHHHHCCCCCCEEEEE...  1305          False   \n",
       "9074  CCCCCCHHHCECCCCEEEEEEEEEEECCCHHHHHHHHCHHHHHHHH...  1310          False   \n",
       "9075  CCCCCCCCCEEEEEECCCEEEEEEECCCCCCCEEEEEEEECCCCCE...  1372          False   \n",
       "9076  CCCCCCCCCCCCCCCCCCCCCEEEEEEECCCCEEEEEEECCCCCCC...  1440          False   \n",
       "9077  CCCCCEEECCEEEEECCCEEEEEEECEECCEEHHHCCCEEEEEEEE...  1632          False   \n",
       "\n",
       "     Exptl.  resolution  R-factor  FreeRvalue  \n",
       "0      XRAY        1.90      0.23        0.27  \n",
       "1      XRAY        1.85      0.20        0.24  \n",
       "2      XRAY        1.45      0.19        0.22  \n",
       "3      XRAY        1.06      0.14        1.00  \n",
       "4      XRAY        1.26      0.13        0.16  \n",
       "...     ...         ...       ...         ...  \n",
       "9073   XRAY        1.48      0.14        0.17  \n",
       "9074   XRAY        2.00      0.18        0.21  \n",
       "9075   XRAY        2.00      0.20        0.23  \n",
       "9076   XRAY        1.80      0.19        0.22  \n",
       "9077   XRAY        1.70      0.18        0.20  \n",
       "\n",
       "[9078 rows x 11 columns]"
      ]
     },
     "execution_count": 2,
     "metadata": {},
     "output_type": "execute_result"
    }
   ],
   "source": [
    "# Create a Pandas DataFrame of the dataset (which is a .csv file)\n",
    "df = pd.read_csv('data\\pdb_train_data.csv', delimiter = \",\")\n",
    "\n",
    "df"
   ]
  },
  {
   "cell_type": "code",
   "execution_count": 3,
   "id": "19658955-2bdc-44d1-99da-4249321e5af8",
   "metadata": {},
   "outputs": [
    {
     "data": {
      "text/html": [
       "<div>\n",
       "<style scoped>\n",
       "    .dataframe tbody tr th:only-of-type {\n",
       "        vertical-align: middle;\n",
       "    }\n",
       "\n",
       "    .dataframe tbody tr th {\n",
       "        vertical-align: top;\n",
       "    }\n",
       "\n",
       "    .dataframe thead th {\n",
       "        text-align: right;\n",
       "    }\n",
       "</style>\n",
       "<table border=\"1\" class=\"dataframe\">\n",
       "  <thead>\n",
       "    <tr style=\"text-align: right;\">\n",
       "      <th></th>\n",
       "      <th>pdb_id</th>\n",
       "      <th>chain_code</th>\n",
       "      <th>seq</th>\n",
       "      <th>sst8</th>\n",
       "      <th>sst3</th>\n",
       "      <th>len</th>\n",
       "      <th>has_nonstd_aa</th>\n",
       "      <th>Exptl.</th>\n",
       "      <th>resolution</th>\n",
       "      <th>R-factor</th>\n",
       "      <th>FreeRvalue</th>\n",
       "    </tr>\n",
       "  </thead>\n",
       "  <tbody>\n",
       "    <tr>\n",
       "      <th>1238</th>\n",
       "      <td>1G2R</td>\n",
       "      <td>A</td>\n",
       "      <td>GSHMKTRKIPLRKSVVSNEVIDKRDLLRIVKNKEGQVFIDPTGKAN...</td>\n",
       "      <td>CCCCCCCCCCCCBCTTTCCBCCGGGEEEEEECTTSCEEEETTSCCC...</td>\n",
       "      <td>CCCCCCCCCCCCECCCCCCECCHHHEEEEEECCCCCEEEECCCCCC...</td>\n",
       "      <td>100</td>\n",
       "      <td>False</td>\n",
       "      <td>XRAY</td>\n",
       "      <td>1.350</td>\n",
       "      <td>0.16</td>\n",
       "      <td>0.18</td>\n",
       "    </tr>\n",
       "    <tr>\n",
       "      <th>1239</th>\n",
       "      <td>1K5N</td>\n",
       "      <td>B</td>\n",
       "      <td>MIQRTPKIQVYSRHPAENGKSNFLNCYVSGFHPSDIEVDLLKNGER...</td>\n",
       "      <td>CCCBCCEEEEEESSCCCTTSCEEEEEEEEEEBSSCCEEEEEETTEE...</td>\n",
       "      <td>CCCECCEEEEEECCCCCCCCCEEEEEEEEEEECCCCEEEEEECCEE...</td>\n",
       "      <td>100</td>\n",
       "      <td>False</td>\n",
       "      <td>XRAY</td>\n",
       "      <td>1.090</td>\n",
       "      <td>0.12</td>\n",
       "      <td>0.15</td>\n",
       "    </tr>\n",
       "    <tr>\n",
       "      <th>1240</th>\n",
       "      <td>1MN8</td>\n",
       "      <td>C</td>\n",
       "      <td>AMGQTVTTPLSLTLGHWKDVERIAHNQSVDVKKRRWVTFCSAEWPT...</td>\n",
       "      <td>CCCCCCCCHHHHHHHTHHHHHHHHHHTTCCCCHHHHHHHHHTTGGG...</td>\n",
       "      <td>CCCCCCCCHHHHHHHCHHHHHHHHHHCCCCCCHHHHHHHHHCCHHH...</td>\n",
       "      <td>100</td>\n",
       "      <td>False</td>\n",
       "      <td>XRAY</td>\n",
       "      <td>1.000</td>\n",
       "      <td>0.13</td>\n",
       "      <td>0.17</td>\n",
       "    </tr>\n",
       "    <tr>\n",
       "      <th>1241</th>\n",
       "      <td>1PSR</td>\n",
       "      <td>B</td>\n",
       "      <td>SNTQAERSIIGMIDMFHKYTRRDDKIDKPSLLTMMKENFPNFLSAC...</td>\n",
       "      <td>CCCHHHHHHHHHHHHHHHTCCTTSCBCHHHHHHHHHHHCHHHHHHH...</td>\n",
       "      <td>CCCHHHHHHHHHHHHHHHCCCCCCCECHHHHHHHHHHHCHHHHHHH...</td>\n",
       "      <td>100</td>\n",
       "      <td>False</td>\n",
       "      <td>XRAY</td>\n",
       "      <td>1.050</td>\n",
       "      <td>0.11</td>\n",
       "      <td>0.14</td>\n",
       "    </tr>\n",
       "    <tr>\n",
       "      <th>1242</th>\n",
       "      <td>2O4T</td>\n",
       "      <td>A</td>\n",
       "      <td>GAHVSRVEKLPKDYQIVYKEIQKYLFKVGPVELNEGIGLLSEILGF...</td>\n",
       "      <td>CCCCCGGGGSCHHHHHHHHHHHHHHHHHSCCSHHHHHHHHHHHHHH...</td>\n",
       "      <td>CCCCCHHHHCCHHHHHHHHHHHHHHHHHCCCCHHHHHHHHHHHHHH...</td>\n",
       "      <td>100</td>\n",
       "      <td>False</td>\n",
       "      <td>XRAY</td>\n",
       "      <td>1.950</td>\n",
       "      <td>0.20</td>\n",
       "      <td>0.26</td>\n",
       "    </tr>\n",
       "    <tr>\n",
       "      <th>...</th>\n",
       "      <td>...</td>\n",
       "      <td>...</td>\n",
       "      <td>...</td>\n",
       "      <td>...</td>\n",
       "      <td>...</td>\n",
       "      <td>...</td>\n",
       "      <td>...</td>\n",
       "      <td>...</td>\n",
       "      <td>...</td>\n",
       "      <td>...</td>\n",
       "      <td>...</td>\n",
       "    </tr>\n",
       "    <tr>\n",
       "      <th>7842</th>\n",
       "      <td>4X28</td>\n",
       "      <td>A</td>\n",
       "      <td>MRISYTPQQEELRRELRSYFATLMTPERREALSSVQGEYGVGNVYR...</td>\n",
       "      <td>CBCSCCHHHHHHHHHHHHHHHHHSCHHHHHHHTCCCCCCCCCCHHH...</td>\n",
       "      <td>CECCCCHHHHHHHHHHHHHHHHHCCHHHHHHHCCCCCCCCCCCHHH...</td>\n",
       "      <td>400</td>\n",
       "      <td>False</td>\n",
       "      <td>XRAY</td>\n",
       "      <td>1.990</td>\n",
       "      <td>0.15</td>\n",
       "      <td>0.19</td>\n",
       "    </tr>\n",
       "    <tr>\n",
       "      <th>7843</th>\n",
       "      <td>5ER9</td>\n",
       "      <td>B</td>\n",
       "      <td>STGNFDLFVVGSGFFGLTIAERAATQLGKRVLVIERRPHIGGNAYS...</td>\n",
       "      <td>CCCCCSEEEECCSHHHHHHHHHHHHHHCCCEEEECSSSSSSGGGCE...</td>\n",
       "      <td>CCCCCCEEEECCCHHHHHHHHHHHHHHCCCEEEECCCCCCCHHHCE...</td>\n",
       "      <td>400</td>\n",
       "      <td>False</td>\n",
       "      <td>XRAY</td>\n",
       "      <td>1.689</td>\n",
       "      <td>0.19</td>\n",
       "      <td>0.22</td>\n",
       "    </tr>\n",
       "    <tr>\n",
       "      <th>7844</th>\n",
       "      <td>5F7V</td>\n",
       "      <td>A</td>\n",
       "      <td>SMCGGGSSSGDKTEITYYQFSAPADGKALDEMVKEFEKQNPDIKVN...</td>\n",
       "      <td>CCCCCCCCCCCCEEEEEEESSCCCCCHHHHHHHHHHHHHCTTEEEE...</td>\n",
       "      <td>CCCCCCCCCCCCEEEEEEECCCCCCCHHHHHHHHHHHHHCCCEEEE...</td>\n",
       "      <td>400</td>\n",
       "      <td>False</td>\n",
       "      <td>XRAY</td>\n",
       "      <td>1.400</td>\n",
       "      <td>0.15</td>\n",
       "      <td>0.18</td>\n",
       "    </tr>\n",
       "    <tr>\n",
       "      <th>7845</th>\n",
       "      <td>5J71</td>\n",
       "      <td>A</td>\n",
       "      <td>SKNASLAGAPKYIEHFSKFSPSPLSMKQFLDFGSSNACEKTSFTFL...</td>\n",
       "      <td>CCCCCCCCHHHHHHHHHTSCCCCCBHHHHHCCCCCCCCHHHHHHHH...</td>\n",
       "      <td>CCCCCCCCHHHHHHHHHCCCCCCCEHHHHHCCCCCCCCHHHHHHHH...</td>\n",
       "      <td>400</td>\n",
       "      <td>False</td>\n",
       "      <td>XRAY</td>\n",
       "      <td>1.650</td>\n",
       "      <td>0.18</td>\n",
       "      <td>0.20</td>\n",
       "    </tr>\n",
       "    <tr>\n",
       "      <th>7846</th>\n",
       "      <td>6F8A</td>\n",
       "      <td>B</td>\n",
       "      <td>MDFPLANLFFVPSEDATAFGRRLRAAAQQAPIVFDTAFGMPILLRK...</td>\n",
       "      <td>CCCCEECCSSCCBSCTTHHHHHHHHHHHHCSEEEETTTTEEEECCH...</td>\n",
       "      <td>CCCCEECCCCCCECCCCHHHHHHHHHHHHCCEEEECCCCEEEECCH...</td>\n",
       "      <td>400</td>\n",
       "      <td>False</td>\n",
       "      <td>XRAY</td>\n",
       "      <td>1.350</td>\n",
       "      <td>0.18</td>\n",
       "      <td>0.19</td>\n",
       "    </tr>\n",
       "  </tbody>\n",
       "</table>\n",
       "<p>6576 rows × 11 columns</p>\n",
       "</div>"
      ],
      "text/plain": [
       "     pdb_id chain_code                                                seq  \\\n",
       "1238   1G2R          A  GSHMKTRKIPLRKSVVSNEVIDKRDLLRIVKNKEGQVFIDPTGKAN...   \n",
       "1239   1K5N          B  MIQRTPKIQVYSRHPAENGKSNFLNCYVSGFHPSDIEVDLLKNGER...   \n",
       "1240   1MN8          C  AMGQTVTTPLSLTLGHWKDVERIAHNQSVDVKKRRWVTFCSAEWPT...   \n",
       "1241   1PSR          B  SNTQAERSIIGMIDMFHKYTRRDDKIDKPSLLTMMKENFPNFLSAC...   \n",
       "1242   2O4T          A  GAHVSRVEKLPKDYQIVYKEIQKYLFKVGPVELNEGIGLLSEILGF...   \n",
       "...     ...        ...                                                ...   \n",
       "7842   4X28          A  MRISYTPQQEELRRELRSYFATLMTPERREALSSVQGEYGVGNVYR...   \n",
       "7843   5ER9          B  STGNFDLFVVGSGFFGLTIAERAATQLGKRVLVIERRPHIGGNAYS...   \n",
       "7844   5F7V          A  SMCGGGSSSGDKTEITYYQFSAPADGKALDEMVKEFEKQNPDIKVN...   \n",
       "7845   5J71          A  SKNASLAGAPKYIEHFSKFSPSPLSMKQFLDFGSSNACEKTSFTFL...   \n",
       "7846   6F8A          B  MDFPLANLFFVPSEDATAFGRRLRAAAQQAPIVFDTAFGMPILLRK...   \n",
       "\n",
       "                                                   sst8  \\\n",
       "1238  CCCCCCCCCCCCBCTTTCCBCCGGGEEEEEECTTSCEEEETTSCCC...   \n",
       "1239  CCCBCCEEEEEESSCCCTTSCEEEEEEEEEEBSSCCEEEEEETTEE...   \n",
       "1240  CCCCCCCCHHHHHHHTHHHHHHHHHHTTCCCCHHHHHHHHHTTGGG...   \n",
       "1241  CCCHHHHHHHHHHHHHHHTCCTTSCBCHHHHHHHHHHHCHHHHHHH...   \n",
       "1242  CCCCCGGGGSCHHHHHHHHHHHHHHHHHSCCSHHHHHHHHHHHHHH...   \n",
       "...                                                 ...   \n",
       "7842  CBCSCCHHHHHHHHHHHHHHHHHSCHHHHHHHTCCCCCCCCCCHHH...   \n",
       "7843  CCCCCSEEEECCSHHHHHHHHHHHHHHCCCEEEECSSSSSSGGGCE...   \n",
       "7844  CCCCCCCCCCCCEEEEEEESSCCCCCHHHHHHHHHHHHHCTTEEEE...   \n",
       "7845  CCCCCCCCHHHHHHHHHTSCCCCCBHHHHHCCCCCCCCHHHHHHHH...   \n",
       "7846  CCCCEECCSSCCBSCTTHHHHHHHHHHHHCSEEEETTTTEEEECCH...   \n",
       "\n",
       "                                                   sst3  len  has_nonstd_aa  \\\n",
       "1238  CCCCCCCCCCCCECCCCCCECCHHHEEEEEECCCCCEEEECCCCCC...  100          False   \n",
       "1239  CCCECCEEEEEECCCCCCCCCEEEEEEEEEEECCCCEEEEEECCEE...  100          False   \n",
       "1240  CCCCCCCCHHHHHHHCHHHHHHHHHHCCCCCCHHHHHHHHHCCHHH...  100          False   \n",
       "1241  CCCHHHHHHHHHHHHHHHCCCCCCCECHHHHHHHHHHHCHHHHHHH...  100          False   \n",
       "1242  CCCCCHHHHCCHHHHHHHHHHHHHHHHHCCCCHHHHHHHHHHHHHH...  100          False   \n",
       "...                                                 ...  ...            ...   \n",
       "7842  CECCCCHHHHHHHHHHHHHHHHHCCHHHHHHHCCCCCCCCCCCHHH...  400          False   \n",
       "7843  CCCCCCEEEECCCHHHHHHHHHHHHHHCCCEEEECCCCCCCHHHCE...  400          False   \n",
       "7844  CCCCCCCCCCCCEEEEEEECCCCCCCHHHHHHHHHHHHHCCCEEEE...  400          False   \n",
       "7845  CCCCCCCCHHHHHHHHHCCCCCCCEHHHHHCCCCCCCCHHHHHHHH...  400          False   \n",
       "7846  CCCCEECCCCCCECCCCHHHHHHHHHHHHCCEEEECCCCEEEECCH...  400          False   \n",
       "\n",
       "     Exptl.  resolution  R-factor  FreeRvalue  \n",
       "1238   XRAY       1.350      0.16        0.18  \n",
       "1239   XRAY       1.090      0.12        0.15  \n",
       "1240   XRAY       1.000      0.13        0.17  \n",
       "1241   XRAY       1.050      0.11        0.14  \n",
       "1242   XRAY       1.950      0.20        0.26  \n",
       "...     ...         ...       ...         ...  \n",
       "7842   XRAY       1.990      0.15        0.19  \n",
       "7843   XRAY       1.689      0.19        0.22  \n",
       "7844   XRAY       1.400      0.15        0.18  \n",
       "7845   XRAY       1.650      0.18        0.20  \n",
       "7846   XRAY       1.350      0.18        0.19  \n",
       "\n",
       "[6576 rows x 11 columns]"
      ]
     },
     "execution_count": 3,
     "metadata": {},
     "output_type": "execute_result"
    }
   ],
   "source": [
    "df = df[(df['len'].between(100, 400)) & (df['has_nonstd_aa'] == False)]\n",
    "\n",
    "df"
   ]
  },
  {
   "cell_type": "markdown",
   "id": "c9e93e63",
   "metadata": {
    "papermill": {
     "duration": 0.013059,
     "end_time": "2024-01-09T21:10:20.620016",
     "exception": false,
     "start_time": "2024-01-09T21:10:20.606957",
     "status": "completed"
    },
    "tags": []
   },
   "source": [
    "### Set Random Seed and $k$-mer Size\n",
    "\n",
    "We choose a seed for reproducibility and a sensible $k$-mer size."
   ]
  },
  {
   "cell_type": "code",
   "execution_count": 61,
   "id": "0e9be591",
   "metadata": {
    "papermill": {
     "duration": 0.021335,
     "end_time": "2024-01-09T21:10:20.654448",
     "exception": false,
     "start_time": "2024-01-09T21:10:20.633113",
     "status": "completed"
    },
    "tags": []
   },
   "outputs": [],
   "source": [
    "# k-mer size and seed choice\n",
    "\n",
    "kmer_size = 3\n",
    "randomer = 42\n",
    "\n",
    "# Random Seed\n",
    "random.seed(randomer)\n",
    "np.random.seed(randomer)\n",
    "tf.random.set_seed(randomer)\n",
    "tf.config.experimental.enable_op_determinism()"
   ]
  },
  {
   "cell_type": "markdown",
   "id": "60826508",
   "metadata": {
    "papermill": {
     "duration": 0.012953,
     "end_time": "2024-01-09T21:10:20.680464",
     "exception": false,
     "start_time": "2024-01-09T21:10:20.667511",
     "status": "completed"
    },
    "tags": []
   },
   "source": [
    "### Generate $k$-mers\n",
    "We convert our protein sequences in to $k$-mers, making the problem less computationally expensive. The choice of $k$ affects the performance of the model, with higher $k$ likely leading to less accurate models. This accuracy can vary based on much larger datasets, and with longer protein sequences.\n",
    "\n",
    "For example, the 3-mers for \"GQVGRQ\" are:\n",
    "\n",
    "GQV, QVG, VGR, GRQ"
   ]
  },
  {
   "cell_type": "code",
   "execution_count": 62,
   "id": "d4ec6f49",
   "metadata": {
    "papermill": {
     "duration": 0.265709,
     "end_time": "2024-01-09T21:10:20.959500",
     "exception": false,
     "start_time": "2024-01-09T21:10:20.693791",
     "status": "completed"
    },
    "tags": []
   },
   "outputs": [
    {
     "name": "stdout",
     "output_type": "stream",
     "text": [
      "Maximum Protein Length: 400\n"
     ]
    },
    {
     "data": {
      "text/html": [
       "<div>\n",
       "<style scoped>\n",
       "    .dataframe tbody tr th:only-of-type {\n",
       "        vertical-align: middle;\n",
       "    }\n",
       "\n",
       "    .dataframe tbody tr th {\n",
       "        vertical-align: top;\n",
       "    }\n",
       "\n",
       "    .dataframe thead th {\n",
       "        text-align: right;\n",
       "    }\n",
       "</style>\n",
       "<table border=\"1\" class=\"dataframe\">\n",
       "  <thead>\n",
       "    <tr style=\"text-align: right;\">\n",
       "      <th></th>\n",
       "      <th>pdb_id</th>\n",
       "      <th>chain_code</th>\n",
       "      <th>seq</th>\n",
       "      <th>sst8</th>\n",
       "      <th>sst3</th>\n",
       "      <th>len</th>\n",
       "      <th>has_nonstd_aa</th>\n",
       "      <th>Exptl.</th>\n",
       "      <th>resolution</th>\n",
       "      <th>R-factor</th>\n",
       "      <th>FreeRvalue</th>\n",
       "      <th>kmers</th>\n",
       "    </tr>\n",
       "  </thead>\n",
       "  <tbody>\n",
       "    <tr>\n",
       "      <th>1238</th>\n",
       "      <td>1G2R</td>\n",
       "      <td>A</td>\n",
       "      <td>GSHMKTRKIPLRKSVVSNEVIDKRDLLRIVKNKEGQVFIDPTGKAN...</td>\n",
       "      <td>CCCCCCCCCCCCBCTTTCCBCCGGGEEEEEECTTSCEEEETTSCCC...</td>\n",
       "      <td>CCCCCCCCCCCCECCCCCCECCHHHEEEEEECCCCCEEEECCCCCC...</td>\n",
       "      <td>100</td>\n",
       "      <td>False</td>\n",
       "      <td>XRAY</td>\n",
       "      <td>1.35</td>\n",
       "      <td>0.16</td>\n",
       "      <td>0.18</td>\n",
       "      <td>[GSH, SHM, HMK, MKT, KTR, TRK, RKI, KIP, IPL, ...</td>\n",
       "    </tr>\n",
       "    <tr>\n",
       "      <th>1239</th>\n",
       "      <td>1K5N</td>\n",
       "      <td>B</td>\n",
       "      <td>MIQRTPKIQVYSRHPAENGKSNFLNCYVSGFHPSDIEVDLLKNGER...</td>\n",
       "      <td>CCCBCCEEEEEESSCCCTTSCEEEEEEEEEEBSSCCEEEEEETTEE...</td>\n",
       "      <td>CCCECCEEEEEECCCCCCCCCEEEEEEEEEEECCCCEEEEEECCEE...</td>\n",
       "      <td>100</td>\n",
       "      <td>False</td>\n",
       "      <td>XRAY</td>\n",
       "      <td>1.09</td>\n",
       "      <td>0.12</td>\n",
       "      <td>0.15</td>\n",
       "      <td>[MIQ, IQR, QRT, RTP, TPK, PKI, KIQ, IQV, QVY, ...</td>\n",
       "    </tr>\n",
       "    <tr>\n",
       "      <th>1240</th>\n",
       "      <td>1MN8</td>\n",
       "      <td>C</td>\n",
       "      <td>AMGQTVTTPLSLTLGHWKDVERIAHNQSVDVKKRRWVTFCSAEWPT...</td>\n",
       "      <td>CCCCCCCCHHHHHHHTHHHHHHHHHHTTCCCCHHHHHHHHHTTGGG...</td>\n",
       "      <td>CCCCCCCCHHHHHHHCHHHHHHHHHHCCCCCCHHHHHHHHHCCHHH...</td>\n",
       "      <td>100</td>\n",
       "      <td>False</td>\n",
       "      <td>XRAY</td>\n",
       "      <td>1.00</td>\n",
       "      <td>0.13</td>\n",
       "      <td>0.17</td>\n",
       "      <td>[AMG, MGQ, GQT, QTV, TVT, VTT, TTP, TPL, PLS, ...</td>\n",
       "    </tr>\n",
       "    <tr>\n",
       "      <th>1241</th>\n",
       "      <td>1PSR</td>\n",
       "      <td>B</td>\n",
       "      <td>SNTQAERSIIGMIDMFHKYTRRDDKIDKPSLLTMMKENFPNFLSAC...</td>\n",
       "      <td>CCCHHHHHHHHHHHHHHHTCCTTSCBCHHHHHHHHHHHCHHHHHHH...</td>\n",
       "      <td>CCCHHHHHHHHHHHHHHHCCCCCCCECHHHHHHHHHHHCHHHHHHH...</td>\n",
       "      <td>100</td>\n",
       "      <td>False</td>\n",
       "      <td>XRAY</td>\n",
       "      <td>1.05</td>\n",
       "      <td>0.11</td>\n",
       "      <td>0.14</td>\n",
       "      <td>[SNT, NTQ, TQA, QAE, AER, ERS, RSI, SII, IIG, ...</td>\n",
       "    </tr>\n",
       "    <tr>\n",
       "      <th>1242</th>\n",
       "      <td>2O4T</td>\n",
       "      <td>A</td>\n",
       "      <td>GAHVSRVEKLPKDYQIVYKEIQKYLFKVGPVELNEGIGLLSEILGF...</td>\n",
       "      <td>CCCCCGGGGSCHHHHHHHHHHHHHHHHHSCCSHHHHHHHHHHHHHH...</td>\n",
       "      <td>CCCCCHHHHCCHHHHHHHHHHHHHHHHHCCCCHHHHHHHHHHHHHH...</td>\n",
       "      <td>100</td>\n",
       "      <td>False</td>\n",
       "      <td>XRAY</td>\n",
       "      <td>1.95</td>\n",
       "      <td>0.20</td>\n",
       "      <td>0.26</td>\n",
       "      <td>[GAH, AHV, HVS, VSR, SRV, RVE, VEK, EKL, KLP, ...</td>\n",
       "    </tr>\n",
       "  </tbody>\n",
       "</table>\n",
       "</div>"
      ],
      "text/plain": [
       "     pdb_id chain_code                                                seq  \\\n",
       "1238   1G2R          A  GSHMKTRKIPLRKSVVSNEVIDKRDLLRIVKNKEGQVFIDPTGKAN...   \n",
       "1239   1K5N          B  MIQRTPKIQVYSRHPAENGKSNFLNCYVSGFHPSDIEVDLLKNGER...   \n",
       "1240   1MN8          C  AMGQTVTTPLSLTLGHWKDVERIAHNQSVDVKKRRWVTFCSAEWPT...   \n",
       "1241   1PSR          B  SNTQAERSIIGMIDMFHKYTRRDDKIDKPSLLTMMKENFPNFLSAC...   \n",
       "1242   2O4T          A  GAHVSRVEKLPKDYQIVYKEIQKYLFKVGPVELNEGIGLLSEILGF...   \n",
       "\n",
       "                                                   sst8  \\\n",
       "1238  CCCCCCCCCCCCBCTTTCCBCCGGGEEEEEECTTSCEEEETTSCCC...   \n",
       "1239  CCCBCCEEEEEESSCCCTTSCEEEEEEEEEEBSSCCEEEEEETTEE...   \n",
       "1240  CCCCCCCCHHHHHHHTHHHHHHHHHHTTCCCCHHHHHHHHHTTGGG...   \n",
       "1241  CCCHHHHHHHHHHHHHHHTCCTTSCBCHHHHHHHHHHHCHHHHHHH...   \n",
       "1242  CCCCCGGGGSCHHHHHHHHHHHHHHHHHSCCSHHHHHHHHHHHHHH...   \n",
       "\n",
       "                                                   sst3  len  has_nonstd_aa  \\\n",
       "1238  CCCCCCCCCCCCECCCCCCECCHHHEEEEEECCCCCEEEECCCCCC...  100          False   \n",
       "1239  CCCECCEEEEEECCCCCCCCCEEEEEEEEEEECCCCEEEEEECCEE...  100          False   \n",
       "1240  CCCCCCCCHHHHHHHCHHHHHHHHHHCCCCCCHHHHHHHHHCCHHH...  100          False   \n",
       "1241  CCCHHHHHHHHHHHHHHHCCCCCCCECHHHHHHHHHHHCHHHHHHH...  100          False   \n",
       "1242  CCCCCHHHHCCHHHHHHHHHHHHHHHHHCCCCHHHHHHHHHHHHHH...  100          False   \n",
       "\n",
       "     Exptl.  resolution  R-factor  FreeRvalue  \\\n",
       "1238   XRAY        1.35      0.16        0.18   \n",
       "1239   XRAY        1.09      0.12        0.15   \n",
       "1240   XRAY        1.00      0.13        0.17   \n",
       "1241   XRAY        1.05      0.11        0.14   \n",
       "1242   XRAY        1.95      0.20        0.26   \n",
       "\n",
       "                                                  kmers  \n",
       "1238  [GSH, SHM, HMK, MKT, KTR, TRK, RKI, KIP, IPL, ...  \n",
       "1239  [MIQ, IQR, QRT, RTP, TPK, PKI, KIQ, IQV, QVY, ...  \n",
       "1240  [AMG, MGQ, GQT, QTV, TVT, VTT, TTP, TPL, PLS, ...  \n",
       "1241  [SNT, NTQ, TQA, QAE, AER, ERS, RSI, SII, IIG, ...  \n",
       "1242  [GAH, AHV, HVS, VSR, SRV, RVE, VEK, EKL, KLP, ...  "
      ]
     },
     "execution_count": 62,
     "metadata": {},
     "output_type": "execute_result"
    }
   ],
   "source": [
    "# Define k-mer function (n-gram)\n",
    "def kmers(seq, k = kmer_size):\n",
    "    return ([seq[i:i + k] for i in range(len(seq) - k + 1)])\n",
    "\n",
    "# Apply the k-mer function to the amino acid sequences\n",
    "df[\"kmers\"] = df[\"seq\"].apply(kmers)\n",
    "\n",
    "# Find the maximum length of the sequences (we know from previously processing our dataset that it is 100)\n",
    "maxlen = max(df[\"len\"])\n",
    "print(\"Maximum Protein Length:\", maxlen)\n",
    "\n",
    "df.head()"
   ]
  },
  {
   "cell_type": "markdown",
   "id": "f2af629a",
   "metadata": {
    "papermill": {
     "duration": 0.013752,
     "end_time": "2024-01-09T21:10:20.987438",
     "exception": false,
     "start_time": "2024-01-09T21:10:20.973686",
     "status": "completed"
    },
    "tags": []
   },
   "source": [
    "### Pre-processing and Padding\n",
    "\n",
    "We use the Tokenizer class to transform our protein sequences and secondary structures into sequences of integers, where each integer is an index of a token in a dictionary. A dictionary is made for our 3-mers, and another dictionary is made for our secondary structures. Padding is performed to make the length of each sequence equal."
   ]
  },
  {
   "cell_type": "code",
   "execution_count": 63,
   "id": "619ae3e8",
   "metadata": {
    "papermill": {
     "duration": 2.109701,
     "end_time": "2024-01-09T21:10:23.110934",
     "exception": false,
     "start_time": "2024-01-09T21:10:21.001233",
     "status": "completed"
    },
    "tags": []
   },
   "outputs": [
    {
     "name": "stdout",
     "output_type": "stream",
     "text": [
      "CPU times: total: 1.34 s\n",
      "Wall time: 1.34 s\n"
     ]
    },
    {
     "data": {
      "text/plain": [
       "((6576, 400), (6576, 400))"
      ]
     },
     "execution_count": 63,
     "metadata": {},
     "output_type": "execute_result"
    }
   ],
   "source": [
    "%%time\n",
    "\n",
    "# We will use functions from Keras to pre-process our data to be used in the model\n",
    "from tensorflow.keras.preprocessing import sequence\n",
    "from tensorflow.keras.preprocessing.text import Tokenizer\n",
    "\n",
    "# Create Tokenizer class for protein sequences, without making them lowercase\n",
    "tok_x = Tokenizer(lower = False)\n",
    "# Fit Tokenizer on protein sequences (k-mers)\n",
    "tok_x.fit_on_texts(df[\"kmers\"].values)\n",
    "# Convert protein sequences into sequence of integers and pad where necessary\n",
    "X = tok_x.texts_to_sequences(df[\"kmers\"].values)\n",
    "X = sequence.pad_sequences(X, maxlen = maxlen, padding = \"post\")\n",
    "\n",
    "# Create Tokenizer class for secondary sequences, and treat every character (element) as a token\n",
    "tok_y = Tokenizer(char_level = True)\n",
    "# Fit Tokenizer on secondary structures\n",
    "tok_y.fit_on_texts(df[\"sst3\"].values)\n",
    "# Convert secondary structures into sequence of integers and pad where necessary\n",
    "y = tok_y.texts_to_sequences(df[\"sst3\"].values)\n",
    "y = sequence.pad_sequences(y, maxlen = maxlen, padding = \"post\")\n",
    "\n",
    "X.shape, y.shape"
   ]
  },
  {
   "cell_type": "markdown",
   "id": "d3e40b1f",
   "metadata": {
    "papermill": {
     "duration": 0.01411,
     "end_time": "2024-01-09T21:10:23.189897",
     "exception": false,
     "start_time": "2024-01-09T21:10:23.175787",
     "status": "completed"
    },
    "tags": []
   },
   "source": [
    "### Training, Validation and Test Split\n",
    "\n",
    "We split our dataset into training, validation and test sets, where the training set is used to train the model. The validation set is used to choose a sensible model after it has been trained. The test set is used to test the performance of our final candidate model."
   ]
  },
  {
   "cell_type": "code",
   "execution_count": 43,
   "id": "0f56dfdb",
   "metadata": {
    "papermill": {
     "duration": 0.693602,
     "end_time": "2024-01-09T21:10:23.897629",
     "exception": false,
     "start_time": "2024-01-09T21:10:23.204027",
     "status": "completed"
    },
    "tags": []
   },
   "outputs": [
    {
     "data": {
      "text/plain": [
       "((4208, 400), (4208, 400), (1052, 400), (1052, 400), (1316, 400), (1316, 400))"
      ]
     },
     "execution_count": 43,
     "metadata": {},
     "output_type": "execute_result"
    }
   ],
   "source": [
    "from sklearn.model_selection import train_test_split\n",
    "\n",
    "# Split the data into training, validation and test sets\n",
    "X_temp, X_test, y_temp, y_test = train_test_split(X, y, train_size = .8, test_size = .2, random_state = randomer)\n",
    "\n",
    "X_train, X_val, y_train, y_val = train_test_split(X_temp, y_temp, train_size = .8, test_size = .2, random_state = randomer)\n",
    "\n",
    "X_train.shape, y_train.shape, X_val.shape, y_val.shape, X_test.shape, y_test.shape"
   ]
  },
  {
   "cell_type": "code",
   "execution_count": 28,
   "id": "06385a1e",
   "metadata": {
    "papermill": {
     "duration": 0.024057,
     "end_time": "2024-01-09T21:10:23.935825",
     "exception": false,
     "start_time": "2024-01-09T21:10:23.911768",
     "status": "completed"
    },
    "tags": []
   },
   "outputs": [
    {
     "data": {
      "text/plain": [
       "(array([18, 17, 17, 17, 17, 17, 17, 18, 16,  5,  8,  2, 11, 15, 18, 18,  9,\n",
       "         5,  2, 17,  6,  3, 15,  4, 11,  8,  9, 10,  3,  5, 12, 16, 14,  6,\n",
       "        17, 12,  1, 13,  4,  2, 11,  9,  1, 11, 11,  2,  3, 14, 11,  5,  5,\n",
       "         4,  4,  4,  2,  3,  1,  1, 17,  7,  2,  4,  5,  7, 10,  5, 18, 10,\n",
       "         7,  2,  7,  9, 11,  2, 10, 14,  3,  7,  5,  4,  2,  7,  1,  4,  2,\n",
       "         6, 17, 10,  5, 13,  8, 10,  1,  6, 19,  5,  5, 11,  8,  2, 17, 10,\n",
       "         9,  5, 15,  4, 11, 10,  3, 13,  1,  5,  5,  8,  2,  1,  9,  4,  2,\n",
       "         7,  8,  1,  7, 13,  1, 10,  6,  4,  8, 16,  2,  1,  6,  6,  5,  3,\n",
       "         8,  6,  4, 19,  6, 16, 14,  8, 11,  3, 16,  7,  1, 15,  8, 19, 16,\n",
       "        13, 15,  3,  9,  8, 13, 13, 18,  5, 16,  3,  1, 13, 12,  6,  5,  9,\n",
       "        12, 12, 14, 14,  7,  5, 16,  2, 11,  1,  4,  8, 19,  9, 14,  8,  8,\n",
       "         0,  0,  0,  0,  0,  0,  0,  0,  0,  0,  0,  0,  0,  0,  0,  0,  0,\n",
       "         0,  0,  0,  0,  0,  0,  0,  0,  0,  0,  0,  0,  0,  0,  0,  0,  0,\n",
       "         0,  0,  0,  0,  0,  0,  0,  0,  0,  0,  0,  0,  0,  0,  0,  0,  0,\n",
       "         0,  0,  0,  0,  0,  0,  0,  0,  0,  0,  0,  0,  0,  0,  0,  0,  0,\n",
       "         0,  0,  0,  0,  0,  0,  0,  0,  0,  0,  0,  0,  0,  0,  0,  0,  0,\n",
       "         0,  0,  0,  0,  0,  0,  0,  0,  0,  0,  0,  0,  0,  0,  0,  0,  0,\n",
       "         0,  0,  0,  0,  0,  0,  0,  0,  0,  0,  0,  0,  0,  0,  0,  0,  0,\n",
       "         0,  0,  0,  0,  0,  0,  0,  0,  0,  0,  0,  0,  0,  0,  0,  0,  0,\n",
       "         0,  0,  0,  0,  0,  0,  0,  0,  0,  0,  0,  0,  0,  0,  0,  0,  0,\n",
       "         0,  0,  0,  0,  0,  0,  0,  0,  0,  0,  0,  0,  0,  0,  0,  0,  0,\n",
       "         0,  0,  0,  0,  0,  0,  0,  0,  0,  0,  0,  0,  0,  0,  0,  0,  0,\n",
       "         0,  0,  0,  0,  0,  0,  0,  0,  0,  0,  0,  0,  0,  0,  0,  0,  0,\n",
       "         0,  0,  0,  0,  0,  0,  0,  0,  0], dtype=int32),\n",
       " array([1, 1, 1, 1, 1, 1, 1, 1, 1, 1, 1, 1, 1, 1, 1, 1, 1, 1, 1, 1, 1, 1,\n",
       "        1, 1, 1, 1, 1, 1, 1, 1, 1, 1, 1, 1, 2, 2, 2, 2, 2, 2, 2, 2, 2, 2,\n",
       "        2, 1, 1, 1, 1, 2, 2, 2, 2, 2, 2, 2, 2, 2, 2, 2, 2, 2, 2, 2, 1, 1,\n",
       "        1, 1, 2, 2, 2, 2, 2, 2, 2, 2, 1, 2, 2, 2, 2, 2, 2, 2, 2, 2, 2, 1,\n",
       "        1, 1, 1, 1, 1, 1, 2, 2, 2, 2, 2, 2, 2, 2, 2, 2, 2, 2, 2, 2, 1, 1,\n",
       "        2, 2, 2, 2, 2, 2, 2, 2, 2, 2, 2, 2, 2, 2, 2, 2, 2, 2, 2, 2, 2, 2,\n",
       "        1, 1, 1, 1, 1, 1, 2, 2, 2, 2, 1, 1, 1, 1, 2, 2, 2, 2, 2, 2, 2, 2,\n",
       "        2, 2, 2, 2, 2, 2, 1, 1, 1, 1, 1, 1, 2, 2, 2, 1, 1, 2, 2, 2, 2, 2,\n",
       "        2, 2, 2, 2, 2, 2, 2, 2, 1, 1, 1, 0, 0, 0, 0, 0, 0, 0, 0, 0, 0, 0,\n",
       "        0, 0, 0, 0, 0, 0, 0, 0, 0, 0, 0, 0, 0, 0, 0, 0, 0, 0, 0, 0, 0, 0,\n",
       "        0, 0, 0, 0, 0, 0, 0, 0, 0, 0, 0, 0, 0, 0, 0, 0, 0, 0, 0, 0, 0, 0,\n",
       "        0, 0, 0, 0, 0, 0, 0, 0, 0, 0, 0, 0, 0, 0, 0, 0, 0, 0, 0, 0, 0, 0,\n",
       "        0, 0, 0, 0, 0, 0, 0, 0, 0, 0, 0, 0, 0, 0, 0, 0, 0, 0, 0, 0, 0, 0,\n",
       "        0, 0, 0, 0, 0, 0, 0, 0, 0, 0, 0, 0, 0, 0, 0, 0, 0, 0, 0, 0, 0, 0,\n",
       "        0, 0, 0, 0, 0, 0, 0, 0, 0, 0, 0, 0, 0, 0, 0, 0, 0, 0, 0, 0, 0, 0,\n",
       "        0, 0, 0, 0, 0, 0, 0, 0, 0, 0, 0, 0, 0, 0, 0, 0, 0, 0, 0, 0, 0, 0,\n",
       "        0, 0, 0, 0, 0, 0, 0, 0, 0, 0, 0, 0, 0, 0, 0, 0, 0, 0, 0, 0, 0, 0,\n",
       "        0, 0, 0, 0, 0, 0, 0, 0, 0, 0, 0, 0, 0, 0, 0, 0, 0, 0, 0, 0, 0, 0,\n",
       "        0, 0, 0, 0], dtype=int32))"
      ]
     },
     "execution_count": 28,
     "metadata": {},
     "output_type": "execute_result"
    }
   ],
   "source": [
    "X_train[0], y_train[0]"
   ]
  },
  {
   "cell_type": "code",
   "execution_count": 29,
   "id": "0a3218f3",
   "metadata": {
    "papermill": {
     "duration": 3.014001,
     "end_time": "2024-01-09T21:10:26.965478",
     "exception": false,
     "start_time": "2024-01-09T21:10:23.951477",
     "status": "completed"
    },
    "tags": []
   },
   "outputs": [
    {
     "name": "stdout",
     "output_type": "stream",
     "text": [
      "Without Oversampling:\n",
      "Number in Class 0 : 934890.0 , 44.43393536121673 %\n",
      "Number in Class 1 : 488611.0 , 23.222956273764257 %\n",
      "Number in Class 2 : 415435.0 , 19.745009505703422 %\n",
      "Number in Class 3 : 265064.0 , 12.59809885931559 %\n"
     ]
    }
   ],
   "source": [
    "from sklearn.metrics import classification_report\n",
    "\n",
    "# Simple way to find out how many instances there are of each class\n",
    "report1 = classification_report(y_train.flatten(), y_train.flatten(), output_dict = True)\n",
    "\n",
    "print(\"Without Oversampling:\")\n",
    "for i in [\"0\",\"1\",\"2\",\"3\"]:\n",
    "    print(\"Number in Class\", i, \":\", report1[i][\"support\"], \",\", report1[i][\"support\"] * 100 / report1[\"weighted avg\"][\"support\"], \"%\")"
   ]
  },
  {
   "cell_type": "code",
   "execution_count": 30,
   "id": "0dafe4f0",
   "metadata": {
    "papermill": {
     "duration": 0.024294,
     "end_time": "2024-01-09T21:10:27.004848",
     "exception": false,
     "start_time": "2024-01-09T21:10:26.980554",
     "status": "completed"
    },
    "tags": []
   },
   "outputs": [],
   "source": [
    "from collections import defaultdict\n",
    "\n",
    "# Function to visualise distribution of SST-3/SST-8 (taken from EDA workbook, adapted to arrays)\n",
    "def sst_visualise(array, ss_types, labels, ss_colours, title):\n",
    "    ss_counts = defaultdict(lambda: 0)\n",
    "\n",
    "    for row in array:\n",
    "        for element in row:\n",
    "            ss_counts[element] += 1\n",
    "\n",
    "    plt.bar(range(len(ss_types)), height = [ss_counts[ss] for ss in ss_types], tick_label = labels, edgecolor = \"black\", width = 0.75, zorder = 3, color = ss_colours)\n",
    "    plt.title(title)\n",
    "    plt.xlabel(\"Element\")\n",
    "    plt.ylabel(\"Frequency\")\n",
    "    plt.show()"
   ]
  },
  {
   "cell_type": "code",
   "execution_count": 31,
   "id": "99c7a1ec",
   "metadata": {
    "papermill": {
     "duration": 0.79647,
     "end_time": "2024-01-09T21:10:27.815740",
     "exception": false,
     "start_time": "2024-01-09T21:10:27.019270",
     "status": "completed"
    },
    "tags": []
   },
   "outputs": [
    {
     "data": {
      "image/png": "[encoded data removed]",
      "text/plain": [
       "<Figure size 640x480 with 1 Axes>"
      ]
     },
     "metadata": {},
     "output_type": "display_data"
    }
   ],
   "source": [
    "# Define elements for SST-3 and SST-8, and custom colours\n",
    "ss_types = list(set(np.ravel(y_train)))\n",
    "labels = [\"Padding\", \"C\", \"H\", \"E\"]\n",
    "ss_colours = [\"grey\", \"purple\", \"orange\", \"black\"]\n",
    "\n",
    "# Plot for training set distribution before oversampling\n",
    "sst_visualise(y_train, ss_types, labels, ss_colours, \"Secondary Structure Distribution (Training; Without Oversampling)\")"
   ]
  },
  {
   "cell_type": "code",
   "execution_count": 32,
   "id": "91a2aa54",
   "metadata": {
    "papermill": {
     "duration": 0.062376,
     "end_time": "2024-01-09T21:10:27.897690",
     "exception": false,
     "start_time": "2024-01-09T21:10:27.835314",
     "status": "completed"
    },
    "tags": []
   },
   "outputs": [],
   "source": [
    "# Perform One-hot Encoding (important for neural networks)\n",
    "\n",
    "from tensorflow.keras.utils import to_categorical\n",
    "\n",
    "y_train_hot = to_categorical(y_train)\n",
    "y_val_hot = to_categorical(y_val)\n",
    "y_test_hot = to_categorical(y_test)"
   ]
  },
  {
   "cell_type": "markdown",
   "id": "2831f126",
   "metadata": {
    "papermill": {
     "duration": 0.014691,
     "end_time": "2024-01-09T21:10:27.927811",
     "exception": false,
     "start_time": "2024-01-09T21:10:27.913120",
     "status": "completed"
    },
    "tags": []
   },
   "source": [
    "### Import Neural Network Functions and Define Q3 Accuracy Metric\n",
    "\n",
    "We are interested in using neural networks for multi-output classification, so we import the relevant functions from TensorFlow. Q3 accuracy is an important metric for assessing the accuracy of our models, as it excludes the padding class in its calculations (it is otherwise equivalent to 'accuracy_score' from scikit-learn)."
   ]
  },
  {
   "cell_type": "code",
   "execution_count": 33,
   "id": "9350f5f8",
   "metadata": {
    "papermill": {
     "duration": 0.023922,
     "end_time": "2024-01-09T21:10:27.966872",
     "exception": false,
     "start_time": "2024-01-09T21:10:27.942950",
     "status": "completed"
    },
    "tags": []
   },
   "outputs": [],
   "source": [
    "# Import relevant functions for Neural Networks\n",
    "\n",
    "from tensorflow.keras.layers import Embedding, Dense, Dropout, Flatten\n",
    "from tensorflow.keras.models import Sequential\n",
    "from tensorflow.keras.callbacks import EarlyStopping"
   ]
  },
  {
   "cell_type": "code",
   "execution_count": 54,
   "id": "0d2a1809",
   "metadata": {
    "papermill": {
     "duration": 0.023344,
     "end_time": "2024-01-09T21:10:28.004838",
     "exception": false,
     "start_time": "2024-01-09T21:10:27.981494",
     "status": "completed"
    },
    "tags": []
   },
   "outputs": [],
   "source": [
    "# Function from KirkDCO on Kaggle (which was made by helme)\n",
    "\n",
    "from tensorflow.keras import backend as K\n",
    "\n",
    "def q3_acc(y_true, y_pred):\n",
    "    y = tf.argmax(y_true, axis=-1)\n",
    "    y_ = tf.argmax(y_pred, axis=-1)\n",
    "    mask = tf.greater(y, 0)\n",
    "    return K.cast(K.equal(tf.boolean_mask(y, mask), tf.boolean_mask(y_, mask)), K.floatx())"
   ]
  },
  {
   "cell_type": "markdown",
   "id": "123365eb",
   "metadata": {
    "papermill": {
     "duration": 0.014402,
     "end_time": "2024-01-09T21:10:28.033855",
     "exception": false,
     "start_time": "2024-01-09T21:10:28.019453",
     "status": "completed"
    },
    "tags": []
   },
   "source": [
    "### Neural Network Model (Model 1, Adam)\n",
    "\n",
    "We describe a neural network model without any regularisation, one hidden layer with the ReLU activation function, and the output layer with the Softmax activation function. The number of epochs is 150, with the batch size and learning rate as 128 and 0.001 respectively. The optimiser used is Adaptive Moment Estimation (Adam)."
   ]
  },
  {
   "cell_type": "markdown",
   "id": "82f1d352",
   "metadata": {
    "papermill": {
     "duration": 0.016057,
     "end_time": "2024-01-09T21:10:28.064445",
     "exception": false,
     "start_time": "2024-01-09T21:10:28.048388",
     "status": "completed"
    },
    "tags": []
   },
   "source": [
    "#### Without Oversampling"
   ]
  },
  {
   "cell_type": "markdown",
   "id": "bddf1c37",
   "metadata": {
    "papermill": {
     "duration": 0.01488,
     "end_time": "2024-01-09T21:10:28.094017",
     "exception": false,
     "start_time": "2024-01-09T21:10:28.079137",
     "status": "completed"
    },
    "tags": []
   },
   "source": [
    "### Set Hyperparameters"
   ]
  },
  {
   "cell_type": "code",
   "execution_count": 35,
   "id": "afd35974",
   "metadata": {
    "papermill": {
     "duration": 0.023651,
     "end_time": "2024-01-09T21:10:28.132480",
     "exception": false,
     "start_time": "2024-01-09T21:10:28.108829",
     "status": "completed"
    },
    "tags": []
   },
   "outputs": [],
   "source": [
    "# Select input and output dimensions (number of 3-mers and number of possible secondary structure elements (3 + padding = 4))\n",
    "\n",
    "n_kmers = len(tok_x.word_index) + 1\n",
    "n_elems = len(tok_y.word_index) + 1\n",
    "\n",
    "# Select number of epochs, batch size, and learning rate\n",
    "n_epochs = 150\n",
    "batch_size = 64\n",
    "learning_rate = 0.001"
   ]
  },
  {
   "cell_type": "markdown",
   "id": "a453809c",
   "metadata": {
    "papermill": {
     "duration": 0.015083,
     "end_time": "2024-01-09T21:10:28.162839",
     "exception": false,
     "start_time": "2024-01-09T21:10:28.147756",
     "status": "completed"
    },
    "tags": []
   },
   "source": [
    "### Define Model 1"
   ]
  },
  {
   "cell_type": "code",
   "execution_count": null,
   "id": "8aa7d875",
   "metadata": {
    "papermill": {
     "duration": 1.021816,
     "end_time": "2024-01-09T21:10:29.200172",
     "exception": false,
     "start_time": "2024-01-09T21:10:28.178356",
     "status": "completed"
    },
    "tags": []
   },
   "outputs": [
    {
     "data": {
      "text/html": [
       "<pre style=\"white-space:pre;overflow-x:auto;line-height:normal;font-family:Menlo,'DejaVu Sans Mono',consolas,'Courier New',monospace\"><span style=\"font-weight: bold\">Model: \"sequential_1\"</span>\n",
       "</pre>\n"
      ],
      "text/plain": [
       "\u001b[1mModel: \"sequential_1\"\u001b[0m\n"
      ]
     },
     "metadata": {},
     "output_type": "display_data"
    },
    {
     "data": {
      "text/html": [
       "<pre style=\"white-space:pre;overflow-x:auto;line-height:normal;font-family:Menlo,'DejaVu Sans Mono',consolas,'Courier New',monospace\">┏━━━━━━━━━━━━━━━━━━━━━━━━━━━━━━━━━━━━━━┳━━━━━━━━━━━━━━━━━━━━━━━━━━━━━┳━━━━━━━━━━━━━━━━━┓\n",
       "┃<span style=\"font-weight: bold\"> Layer (type)                         </span>┃<span style=\"font-weight: bold\"> Output Shape                </span>┃<span style=\"font-weight: bold\">         Param # </span>┃\n",
       "┡━━━━━━━━━━━━━━━━━━━━━━━━━━━━━━━━━━━━━━╇━━━━━━━━━━━━━━━━━━━━━━━━━━━━━╇━━━━━━━━━━━━━━━━━┩\n",
       "│ embedding_1 (<span style=\"color: #0087ff; text-decoration-color: #0087ff\">Embedding</span>)              │ ?                           │     <span style=\"color: #00af00; text-decoration-color: #00af00\">0</span> (unbuilt) │\n",
       "├──────────────────────────────────────┼─────────────────────────────┼─────────────────┤\n",
       "│ dense_4 (<span style=\"color: #0087ff; text-decoration-color: #0087ff\">Dense</span>)                      │ ?                           │     <span style=\"color: #00af00; text-decoration-color: #00af00\">0</span> (unbuilt) │\n",
       "├──────────────────────────────────────┼─────────────────────────────┼─────────────────┤\n",
       "│ dense_5 (<span style=\"color: #0087ff; text-decoration-color: #0087ff\">Dense</span>)                      │ ?                           │     <span style=\"color: #00af00; text-decoration-color: #00af00\">0</span> (unbuilt) │\n",
       "├──────────────────────────────────────┼─────────────────────────────┼─────────────────┤\n",
       "│ dense_6 (<span style=\"color: #0087ff; text-decoration-color: #0087ff\">Dense</span>)                      │ ?                           │     <span style=\"color: #00af00; text-decoration-color: #00af00\">0</span> (unbuilt) │\n",
       "├──────────────────────────────────────┼─────────────────────────────┼─────────────────┤\n",
       "│ dense_7 (<span style=\"color: #0087ff; text-decoration-color: #0087ff\">Dense</span>)                      │ ?                           │     <span style=\"color: #00af00; text-decoration-color: #00af00\">0</span> (unbuilt) │\n",
       "└──────────────────────────────────────┴─────────────────────────────┴─────────────────┘\n",
       "</pre>\n"
      ],
      "text/plain": [
       "┏━━━━━━━━━━━━━━━━━━━━━━━━━━━━━━━━━━━━━━┳━━━━━━━━━━━━━━━━━━━━━━━━━━━━━┳━━━━━━━━━━━━━━━━━┓\n",
       "┃\u001b[1m \u001b[0m\u001b[1mLayer (type)                        \u001b[0m\u001b[1m \u001b[0m┃\u001b[1m \u001b[0m\u001b[1mOutput Shape               \u001b[0m\u001b[1m \u001b[0m┃\u001b[1m \u001b[0m\u001b[1m        Param #\u001b[0m\u001b[1m \u001b[0m┃\n",
       "┡━━━━━━━━━━━━━━━━━━━━━━━━━━━━━━━━━━━━━━╇━━━━━━━━━━━━━━━━━━━━━━━━━━━━━╇━━━━━━━━━━━━━━━━━┩\n",
       "│ embedding_1 (\u001b[38;5;33mEmbedding\u001b[0m)              │ ?                           │     \u001b[38;5;34m0\u001b[0m (unbuilt) │\n",
       "├──────────────────────────────────────┼─────────────────────────────┼─────────────────┤\n",
       "│ dense_4 (\u001b[38;5;33mDense\u001b[0m)                      │ ?                           │     \u001b[38;5;34m0\u001b[0m (unbuilt) │\n",
       "├──────────────────────────────────────┼─────────────────────────────┼─────────────────┤\n",
       "│ dense_5 (\u001b[38;5;33mDense\u001b[0m)                      │ ?                           │     \u001b[38;5;34m0\u001b[0m (unbuilt) │\n",
       "├──────────────────────────────────────┼─────────────────────────────┼─────────────────┤\n",
       "│ dense_6 (\u001b[38;5;33mDense\u001b[0m)                      │ ?                           │     \u001b[38;5;34m0\u001b[0m (unbuilt) │\n",
       "├──────────────────────────────────────┼─────────────────────────────┼─────────────────┤\n",
       "│ dense_7 (\u001b[38;5;33mDense\u001b[0m)                      │ ?                           │     \u001b[38;5;34m0\u001b[0m (unbuilt) │\n",
       "└──────────────────────────────────────┴─────────────────────────────┴─────────────────┘\n"
      ]
     },
     "metadata": {},
     "output_type": "display_data"
    },
    {
     "data": {
      "text/html": [
       "<pre style=\"white-space:pre;overflow-x:auto;line-height:normal;font-family:Menlo,'DejaVu Sans Mono',consolas,'Courier New',monospace\"><span style=\"font-weight: bold\"> Total params: </span><span style=\"color: #00af00; text-decoration-color: #00af00\">0</span> (0.00 B)\n",
       "</pre>\n"
      ],
      "text/plain": [
       "\u001b[1m Total params: \u001b[0m\u001b[38;5;34m0\u001b[0m (0.00 B)\n"
      ]
     },
     "metadata": {},
     "output_type": "display_data"
    },
    {
     "data": {
      "text/html": [
       "<pre style=\"white-space:pre;overflow-x:auto;line-height:normal;font-family:Menlo,'DejaVu Sans Mono',consolas,'Courier New',monospace\"><span style=\"font-weight: bold\"> Trainable params: </span><span style=\"color: #00af00; text-decoration-color: #00af00\">0</span> (0.00 B)\n",
       "</pre>\n"
      ],
      "text/plain": [
       "\u001b[1m Trainable params: \u001b[0m\u001b[38;5;34m0\u001b[0m (0.00 B)\n"
      ]
     },
     "metadata": {},
     "output_type": "display_data"
    },
    {
     "data": {
      "text/html": [
       "<pre style=\"white-space:pre;overflow-x:auto;line-height:normal;font-family:Menlo,'DejaVu Sans Mono',consolas,'Courier New',monospace\"><span style=\"font-weight: bold\"> Non-trainable params: </span><span style=\"color: #00af00; text-decoration-color: #00af00\">0</span> (0.00 B)\n",
       "</pre>\n"
      ],
      "text/plain": [
       "\u001b[1m Non-trainable params: \u001b[0m\u001b[38;5;34m0\u001b[0m (0.00 B)\n"
      ]
     },
     "metadata": {},
     "output_type": "display_data"
    },
    {
     "data": {
      "text/html": [
       "<pre style=\"white-space:pre;overflow-x:auto;line-height:normal;font-family:Menlo,'DejaVu Sans Mono',consolas,'Courier New',monospace\"><span style=\"font-weight: bold\">Model: \"sequential_1\"</span>\n",
       "</pre>\n"
      ],
      "text/plain": [
       "\u001b[1mModel: \"sequential_1\"\u001b[0m\n"
      ]
     },
     "metadata": {},
     "output_type": "display_data"
    },
    {
     "data": {
      "text/html": [
       "<pre style=\"white-space:pre;overflow-x:auto;line-height:normal;font-family:Menlo,'DejaVu Sans Mono',consolas,'Courier New',monospace\">┏━━━━━━━━━━━━━━━━━━━━━━━━━━━━━━━━━━━━━━┳━━━━━━━━━━━━━━━━━━━━━━━━━━━━━┳━━━━━━━━━━━━━━━━━┓\n",
       "┃<span style=\"font-weight: bold\"> Layer (type)                         </span>┃<span style=\"font-weight: bold\"> Output Shape                </span>┃<span style=\"font-weight: bold\">         Param # </span>┃\n",
       "┡━━━━━━━━━━━━━━━━━━━━━━━━━━━━━━━━━━━━━━╇━━━━━━━━━━━━━━━━━━━━━━━━━━━━━╇━━━━━━━━━━━━━━━━━┩\n",
       "│ embedding_1 (<span style=\"color: #0087ff; text-decoration-color: #0087ff\">Embedding</span>)              │ (<span style=\"color: #00af00; text-decoration-color: #00af00\">1</span>, <span style=\"color: #00af00; text-decoration-color: #00af00\">400</span>, <span style=\"color: #00af00; text-decoration-color: #00af00\">5260</span>)              │         <span style=\"color: #00af00; text-decoration-color: #00af00\">110,460</span> │\n",
       "├──────────────────────────────────────┼─────────────────────────────┼─────────────────┤\n",
       "│ dense_4 (<span style=\"color: #0087ff; text-decoration-color: #0087ff\">Dense</span>)                      │ (<span style=\"color: #00af00; text-decoration-color: #00af00\">1</span>, <span style=\"color: #00af00; text-decoration-color: #00af00\">400</span>, <span style=\"color: #00af00; text-decoration-color: #00af00\">256</span>)               │       <span style=\"color: #00af00; text-decoration-color: #00af00\">1,346,816</span> │\n",
       "├──────────────────────────────────────┼─────────────────────────────┼─────────────────┤\n",
       "│ dense_5 (<span style=\"color: #0087ff; text-decoration-color: #0087ff\">Dense</span>)                      │ (<span style=\"color: #00af00; text-decoration-color: #00af00\">1</span>, <span style=\"color: #00af00; text-decoration-color: #00af00\">400</span>, <span style=\"color: #00af00; text-decoration-color: #00af00\">128</span>)               │          <span style=\"color: #00af00; text-decoration-color: #00af00\">32,896</span> │\n",
       "├──────────────────────────────────────┼─────────────────────────────┼─────────────────┤\n",
       "│ dense_6 (<span style=\"color: #0087ff; text-decoration-color: #0087ff\">Dense</span>)                      │ (<span style=\"color: #00af00; text-decoration-color: #00af00\">1</span>, <span style=\"color: #00af00; text-decoration-color: #00af00\">400</span>, <span style=\"color: #00af00; text-decoration-color: #00af00\">64</span>)                │           <span style=\"color: #00af00; text-decoration-color: #00af00\">8,256</span> │\n",
       "├──────────────────────────────────────┼─────────────────────────────┼─────────────────┤\n",
       "│ dense_7 (<span style=\"color: #0087ff; text-decoration-color: #0087ff\">Dense</span>)                      │ (<span style=\"color: #00af00; text-decoration-color: #00af00\">1</span>, <span style=\"color: #00af00; text-decoration-color: #00af00\">400</span>, <span style=\"color: #00af00; text-decoration-color: #00af00\">4</span>)                 │             <span style=\"color: #00af00; text-decoration-color: #00af00\">260</span> │\n",
       "└──────────────────────────────────────┴─────────────────────────────┴─────────────────┘\n",
       "</pre>\n"
      ],
      "text/plain": [
       "┏━━━━━━━━━━━━━━━━━━━━━━━━━━━━━━━━━━━━━━┳━━━━━━━━━━━━━━━━━━━━━━━━━━━━━┳━━━━━━━━━━━━━━━━━┓\n",
       "┃\u001b[1m \u001b[0m\u001b[1mLayer (type)                        \u001b[0m\u001b[1m \u001b[0m┃\u001b[1m \u001b[0m\u001b[1mOutput Shape               \u001b[0m\u001b[1m \u001b[0m┃\u001b[1m \u001b[0m\u001b[1m        Param #\u001b[0m\u001b[1m \u001b[0m┃\n",
       "┡━━━━━━━━━━━━━━━━━━━━━━━━━━━━━━━━━━━━━━╇━━━━━━━━━━━━━━━━━━━━━━━━━━━━━╇━━━━━━━━━━━━━━━━━┩\n",
       "│ embedding_1 (\u001b[38;5;33mEmbedding\u001b[0m)              │ (\u001b[38;5;34m1\u001b[0m, \u001b[38;5;34m400\u001b[0m, \u001b[38;5;34m5260\u001b[0m)              │         \u001b[38;5;34m110,460\u001b[0m │\n",
       "├──────────────────────────────────────┼─────────────────────────────┼─────────────────┤\n",
       "│ dense_4 (\u001b[38;5;33mDense\u001b[0m)                      │ (\u001b[38;5;34m1\u001b[0m, \u001b[38;5;34m400\u001b[0m, \u001b[38;5;34m256\u001b[0m)               │       \u001b[38;5;34m1,346,816\u001b[0m │\n",
       "├──────────────────────────────────────┼─────────────────────────────┼─────────────────┤\n",
       "│ dense_5 (\u001b[38;5;33mDense\u001b[0m)                      │ (\u001b[38;5;34m1\u001b[0m, \u001b[38;5;34m400\u001b[0m, \u001b[38;5;34m128\u001b[0m)               │          \u001b[38;5;34m32,896\u001b[0m │\n",
       "├──────────────────────────────────────┼─────────────────────────────┼─────────────────┤\n",
       "│ dense_6 (\u001b[38;5;33mDense\u001b[0m)                      │ (\u001b[38;5;34m1\u001b[0m, \u001b[38;5;34m400\u001b[0m, \u001b[38;5;34m64\u001b[0m)                │           \u001b[38;5;34m8,256\u001b[0m │\n",
       "├──────────────────────────────────────┼─────────────────────────────┼─────────────────┤\n",
       "│ dense_7 (\u001b[38;5;33mDense\u001b[0m)                      │ (\u001b[38;5;34m1\u001b[0m, \u001b[38;5;34m400\u001b[0m, \u001b[38;5;34m4\u001b[0m)                 │             \u001b[38;5;34m260\u001b[0m │\n",
       "└──────────────────────────────────────┴─────────────────────────────┴─────────────────┘\n"
      ]
     },
     "metadata": {},
     "output_type": "display_data"
    },
    {
     "data": {
      "text/html": [
       "<pre style=\"white-space:pre;overflow-x:auto;line-height:normal;font-family:Menlo,'DejaVu Sans Mono',consolas,'Courier New',monospace\"><span style=\"font-weight: bold\"> Total params: </span><span style=\"color: #00af00; text-decoration-color: #00af00\">1,498,688</span> (5.72 MB)\n",
       "</pre>\n"
      ],
      "text/plain": [
       "\u001b[1m Total params: \u001b[0m\u001b[38;5;34m1,498,688\u001b[0m (5.72 MB)\n"
      ]
     },
     "metadata": {},
     "output_type": "display_data"
    },
    {
     "data": {
      "text/html": [
       "<pre style=\"white-space:pre;overflow-x:auto;line-height:normal;font-family:Menlo,'DejaVu Sans Mono',consolas,'Courier New',monospace\"><span style=\"font-weight: bold\"> Trainable params: </span><span style=\"color: #00af00; text-decoration-color: #00af00\">1,498,688</span> (5.72 MB)\n",
       "</pre>\n"
      ],
      "text/plain": [
       "\u001b[1m Trainable params: \u001b[0m\u001b[38;5;34m1,498,688\u001b[0m (5.72 MB)\n"
      ]
     },
     "metadata": {},
     "output_type": "display_data"
    },
    {
     "data": {
      "text/html": [
       "<pre style=\"white-space:pre;overflow-x:auto;line-height:normal;font-family:Menlo,'DejaVu Sans Mono',consolas,'Courier New',monospace\"><span style=\"font-weight: bold\"> Non-trainable params: </span><span style=\"color: #00af00; text-decoration-color: #00af00\">0</span> (0.00 B)\n",
       "</pre>\n"
      ],
      "text/plain": [
       "\u001b[1m Non-trainable params: \u001b[0m\u001b[38;5;34m0\u001b[0m (0.00 B)\n"
      ]
     },
     "metadata": {},
     "output_type": "display_data"
    }
   ],
   "source": [
    "# Define a Neural Network model (Model 1)\n",
    "model_1 = Sequential()\n",
    "# Create Embedding layer, which turns our indexes (3-mers) into dense vectors of fixed size - 'output_dim' can be adjusted\n",
    "model_1.add(Embedding(input_dim = n_kmers, output_dim = X_train.shape[0], input_length = maxlen))\n",
    "# Create Dense layers using the ReLU activation function\n",
    "model_1.add(Dense(256, activation = \"relu\"))\n",
    "model_1.add(Dense(128, activation = \"relu\"))\n",
    "model_1.add(Dense(64, activation = \"relu\"))\n",
    "# Create Dense layer of 4 nodes, using the Softmax activation function\n",
    "model_1.add((Dense(n_elems, input_dim = y_train_hot.shape[2], activation = \"softmax\")))\n",
    "# Display summary of model\n",
    "model_1.summary()\n",
    "\n",
    "# Dummy input tensor to force model build\n",
    "dummy_input = np.zeros((1, maxlen))\n",
    "model_1(dummy_input)\n",
    "model_1.summary()"
   ]
  },
  {
   "cell_type": "markdown",
   "id": "d84da238",
   "metadata": {
    "papermill": {
     "duration": 0.016306,
     "end_time": "2024-01-09T21:10:29.233952",
     "exception": false,
     "start_time": "2024-01-09T21:10:29.217646",
     "status": "completed"
    },
    "tags": []
   },
   "source": [
    "### Train Model 1\n",
    "\n",
    "We train the neural network on the training data, using the one-hot encoded variable 'y_train_hot'. The hyperparameters and model are defined as above. We use EarlyStopping to stop the training if the loss does not improve after 5 epochs."
   ]
  },
  {
   "cell_type": "code",
   "execution_count": 37,
   "id": "7d16c21f",
   "metadata": {
    "papermill": {
     "duration": 748.133315,
     "end_time": "2024-01-09T21:22:57.383557",
     "exception": false,
     "start_time": "2024-01-09T21:10:29.250242",
     "status": "completed"
    },
    "tags": []
   },
   "outputs": [
    {
     "name": "stdout",
     "output_type": "stream",
     "text": [
      "Epoch 1/150\n",
      "\u001b[1m83/83\u001b[0m \u001b[32m━━━━━━━━━━━━━━━━━━━━\u001b[0m\u001b[37m\u001b[0m \u001b[1m81s\u001b[0m 962ms/step - accuracy: 0.6713 - loss: 0.6684 - q3_acc: 0.4595\n",
      "Epoch 2/150\n",
      "\u001b[1m83/83\u001b[0m \u001b[32m━━━━━━━━━━━━━━━━━━━━\u001b[0m\u001b[37m\u001b[0m \u001b[1m89s\u001b[0m 1s/step - accuracy: 0.7119 - loss: 0.5687 - q3_acc: 0.4854 \n",
      "Epoch 3/150\n",
      "\u001b[1m83/83\u001b[0m \u001b[32m━━━━━━━━━━━━━━━━━━━━\u001b[0m\u001b[37m\u001b[0m \u001b[1m95s\u001b[0m 1s/step - accuracy: 0.7122 - loss: 0.5683 - q3_acc: 0.4858 \n",
      "Epoch 4/150\n",
      "\u001b[1m83/83\u001b[0m \u001b[32m━━━━━━━━━━━━━━━━━━━━\u001b[0m\u001b[37m\u001b[0m \u001b[1m89s\u001b[0m 1s/step - accuracy: 0.7125 - loss: 0.5681 - q3_acc: 0.4864 \n",
      "Epoch 5/150\n",
      "\u001b[1m83/83\u001b[0m \u001b[32m━━━━━━━━━━━━━━━━━━━━\u001b[0m\u001b[37m\u001b[0m \u001b[1m95s\u001b[0m 1s/step - accuracy: 0.7125 - loss: 0.5680 - q3_acc: 0.4864 \n",
      "Epoch 6/150\n",
      "\u001b[1m83/83\u001b[0m \u001b[32m━━━━━━━━━━━━━━━━━━━━\u001b[0m\u001b[37m\u001b[0m \u001b[1m87s\u001b[0m 1s/step - accuracy: 0.7124 - loss: 0.5680 - q3_acc: 0.4862 \n",
      "Epoch 7/150\n",
      "\u001b[1m83/83\u001b[0m \u001b[32m━━━━━━━━━━━━━━━━━━━━\u001b[0m\u001b[37m\u001b[0m \u001b[1m91s\u001b[0m 1s/step - accuracy: 0.7123 - loss: 0.5680 - q3_acc: 0.4861 \n",
      "Epoch 8/150\n",
      "\u001b[1m83/83\u001b[0m \u001b[32m━━━━━━━━━━━━━━━━━━━━\u001b[0m\u001b[37m\u001b[0m \u001b[1m86s\u001b[0m 1s/step - accuracy: 0.7127 - loss: 0.5679 - q3_acc: 0.4867 \n",
      "Epoch 9/150\n",
      "\u001b[1m83/83\u001b[0m \u001b[32m━━━━━━━━━━━━━━━━━━━━\u001b[0m\u001b[37m\u001b[0m \u001b[1m87s\u001b[0m 1s/step - accuracy: 0.7127 - loss: 0.5678 - q3_acc: 0.4868 \n",
      "Epoch 10/150\n",
      "\u001b[1m83/83\u001b[0m \u001b[32m━━━━━━━━━━━━━━━━━━━━\u001b[0m\u001b[37m\u001b[0m \u001b[1m87s\u001b[0m 1s/step - accuracy: 0.7126 - loss: 0.5678 - q3_acc: 0.4866    \n",
      "Epoch 11/150\n",
      "\u001b[1m83/83\u001b[0m \u001b[32m━━━━━━━━━━━━━━━━━━━━\u001b[0m\u001b[37m\u001b[0m \u001b[1m89s\u001b[0m 1s/step - accuracy: 0.7125 - loss: 0.5678 - q3_acc: 0.4863 \n",
      "Epoch 12/150\n",
      "\u001b[1m83/83\u001b[0m \u001b[32m━━━━━━━━━━━━━━━━━━━━\u001b[0m\u001b[37m\u001b[0m \u001b[1m89s\u001b[0m 1s/step - accuracy: 0.7125 - loss: 0.5677 - q3_acc: 0.4864 \n",
      "Epoch 13/150\n",
      "\u001b[1m83/83\u001b[0m \u001b[32m━━━━━━━━━━━━━━━━━━━━\u001b[0m\u001b[37m\u001b[0m \u001b[1m86s\u001b[0m 1s/step - accuracy: 0.7126 - loss: 0.5677 - q3_acc: 0.4866 \n",
      "Epoch 14/150\n",
      "\u001b[1m83/83\u001b[0m \u001b[32m━━━━━━━━━━━━━━━━━━━━\u001b[0m\u001b[37m\u001b[0m \u001b[1m83s\u001b[0m 1s/step - accuracy: 0.7126 - loss: 0.5677 - q3_acc: 0.4866 \n",
      "Epoch 14: early stopping\n",
      "CPU times: total: 4h 22min 28s\n",
      "Wall time: 20min 34s\n"
     ]
    }
   ],
   "source": [
    "%%time\n",
    "\n",
    "from tensorflow.keras.optimizers import Adam\n",
    "\n",
    "# Repeat seed (if needed)\n",
    "np.random.seed(randomer)\n",
    "tf.random.set_seed(randomer)\n",
    "tf.config.experimental.enable_op_determinism()\n",
    "\n",
    "# Use 'categorical cross-entropy' loss and the Adam optimiser with set learning rate\n",
    "model_1.compile(loss = \"categorical_crossentropy\", optimizer = Adam(learning_rate = learning_rate), metrics = [\"accuracy\", q3_acc])\n",
    "# Stop training when loss has stopped improving, using EarlyStopping\n",
    "monitor = EarlyStopping(monitor = \"loss\", min_delta = 1e-4, patience = 3, verbose = 1, mode = \"auto\")\n",
    "# Create variable to store loss and accuracy history, and fit the neural network to the training data\n",
    "history_1 = model_1.fit(X_train, y_train_hot, callbacks = [monitor], batch_size = batch_size, epochs = n_epochs, verbose = 1)"
   ]
  },
  {
   "cell_type": "code",
   "execution_count": 38,
   "id": "68cba5c5",
   "metadata": {
    "papermill": {
     "duration": 58.934242,
     "end_time": "2024-01-09T21:23:56.578930",
     "exception": false,
     "start_time": "2024-01-09T21:22:57.644688",
     "status": "completed"
    },
    "tags": []
   },
   "outputs": [],
   "source": [
    "model_1.save(\"models/model_3.keras\")"
   ]
  },
  {
   "cell_type": "code",
   "execution_count": 39,
   "id": "db2550fa",
   "metadata": {
    "papermill": {
     "duration": 6.656744,
     "end_time": "2024-01-09T21:24:03.476912",
     "exception": false,
     "start_time": "2024-01-09T21:23:56.820168",
     "status": "completed"
    },
    "tags": []
   },
   "outputs": [
    {
     "name": "stdout",
     "output_type": "stream",
     "text": [
      "\u001b[1m165/165\u001b[0m \u001b[32m━━━━━━━━━━━━━━━━━━━━\u001b[0m\u001b[37m\u001b[0m \u001b[1m31s\u001b[0m 187ms/step - accuracy: 0.7169 - loss: 0.5595 - q3_acc: 0.4862\n",
      "Accuracy: 0.714532196521759\n",
      "Q3 Accuracy: 0.48625534772872925\n"
     ]
    },
    {
     "data": {
      "image/png": "[encoded data removed]",
      "text/plain": [
       "<Figure size 640x480 with 2 Axes>"
      ]
     },
     "metadata": {},
     "output_type": "display_data"
    }
   ],
   "source": [
    "# Default and Q3 Accuracy for Model\n",
    "evals = model_1.evaluate(X_train, y_train_hot)\n",
    "print(\"Accuracy:\", evals[1])\n",
    "print(\"Q3 Accuracy:\", evals[2])\n",
    "\n",
    "# Plot model loss\n",
    "plt.plot(history_1.history[\"loss\"], color = \"red\")\n",
    "plt.title(\"Model Loss/Q3 Accuracy\")\n",
    "plt.ylabel(\"Loss\")\n",
    "plt.xlabel(\"Epoch\")\n",
    "plt.legend([\"Loss\"], loc = \"upper left\")\n",
    "\n",
    "# Plot model Q3 accuracy\n",
    "plt2 = plt.twinx()\n",
    "plt2.plot(history_1.history[\"q3_acc\"])\n",
    "plt.ylabel(\"Q3 Accuracy\")\n",
    "plt2.legend([\"Q3 Accuracy\"], loc = \"upper right\")\n",
    "plt.savefig(\"base_model_no_over.png\")\n",
    "plt.show()"
   ]
  },
  {
   "cell_type": "markdown",
   "id": "8011b58d",
   "metadata": {
    "papermill": {
     "duration": 0.250587,
     "end_time": "2024-01-09T21:24:03.977379",
     "exception": false,
     "start_time": "2024-01-09T21:24:03.726792",
     "status": "completed"
    },
    "tags": []
   },
   "source": [
    "### Test Model 1 on Validation Set\n",
    "\n",
    "We use our trained model to predict the data in the validation set."
   ]
  },
  {
   "cell_type": "code",
   "execution_count": 40,
   "id": "7cc48275",
   "metadata": {
    "papermill": {
     "duration": 32.362522,
     "end_time": "2024-01-09T21:24:36.590908",
     "exception": false,
     "start_time": "2024-01-09T21:24:04.228386",
     "status": "completed"
    },
    "tags": []
   },
   "outputs": [
    {
     "name": "stdout",
     "output_type": "stream",
     "text": [
      "\u001b[1m33/33\u001b[0m \u001b[32m━━━━━━━━━━━━━━━━━━━━\u001b[0m\u001b[37m\u001b[0m \u001b[1m5s\u001b[0m 157ms/step\n",
      "Q3 Accuracy: 0.48477819561958313\n",
      "CPU times: total: 2min 7s\n",
      "Wall time: 1min 15s\n"
     ]
    }
   ],
   "source": [
    "%%time\n",
    "\n",
    "# Convert Q3 accuracy to NumPy object\n",
    "def q3_num(q3_acc):\n",
    "    return (sum(q3_acc) / q3_acc.shape[0]).numpy()\n",
    "\n",
    "# Predict validation set\n",
    "preds = model_1.predict(X_val)\n",
    "print(f\"Q3 Accuracy: {q3_num(q3_acc(y_val_hot, preds))}\")"
   ]
  },
  {
   "cell_type": "markdown",
   "id": "e0b74a87",
   "metadata": {
    "papermill": {
     "duration": 0.827927,
     "end_time": "2024-01-09T21:57:52.356922",
     "exception": false,
     "start_time": "2024-01-09T21:57:51.528995",
     "status": "completed"
    },
    "tags": []
   },
   "source": [
    "### Results of Chosen Model (Model 1)\n",
    "\n",
    "We use the model with the best validation set accuracy, which is Model 1. We test this model on the test set. We also compare the results between training on the oversampled data against training on the original data. The oversampled data training can be found in the relevant notebook, in the Github repository."
   ]
  },
  {
   "cell_type": "code",
   "execution_count": 41,
   "id": "67bc9145",
   "metadata": {
    "papermill": {
     "duration": 2.066558,
     "end_time": "2024-01-09T21:57:55.354935",
     "exception": false,
     "start_time": "2024-01-09T21:57:53.288377",
     "status": "completed"
    },
    "tags": []
   },
   "outputs": [
    {
     "name": "stdout",
     "output_type": "stream",
     "text": [
      "\u001b[1m9/9\u001b[0m \u001b[32m━━━━━━━━━━━━━━━━━━━━\u001b[0m\u001b[37m\u001b[0m \u001b[1m2s\u001b[0m 172ms/step\n"
     ]
    }
   ],
   "source": [
    "# Predict test set\n",
    "y_pred1 = model_1.predict(X_test)"
   ]
  },
  {
   "cell_type": "code",
   "execution_count": 42,
   "id": "dc308cfd",
   "metadata": {
    "papermill": {
     "duration": 64.962172,
     "end_time": "2024-01-09T21:59:01.141816",
     "exception": false,
     "start_time": "2024-01-09T21:57:56.179644",
     "status": "completed"
    },
    "tags": []
   },
   "outputs": [
    {
     "name": "stdout",
     "output_type": "stream",
     "text": [
      "===== Without Oversampling =====\n",
      "\n",
      "Default Accuracy: 0.7217045454545454\n",
      "Q3 Accuracy: 0.48861974477767944\n",
      "\n",
      "               precision    recall  f1-score   support\n",
      "\n",
      "     Padding   1.000000  1.000000  1.000000     48132\n",
      "           C   0.554253  0.577935  0.565846     23802\n",
      "           H   0.466785  0.480378  0.473484     20742\n",
      "           E   0.385738  0.337357  0.359929     12924\n",
      "\n",
      "    accuracy                       0.721705    105600\n",
      "   macro avg   0.601694  0.598917  0.599815    105600\n",
      "weighted avg   0.719618  0.721705  0.720388    105600\n",
      "\n"
     ]
    },
    {
     "data": {
      "image/png": "[encoded data removed]",
      "text/plain": [
       "<Figure size 640x480 with 2 Axes>"
      ]
     },
     "metadata": {},
     "output_type": "display_data"
    }
   ],
   "source": [
    "from sklearn.metrics import accuracy_score, confusion_matrix, ConfusionMatrixDisplay\n",
    "\n",
    "converted_hot = tf.argmax(y_test_hot, axis = -1).numpy()\n",
    "converted_pred = tf.argmax(y_pred1, axis = -1).numpy()\n",
    "\n",
    "print(\"===== Without Oversampling =====\\n\")\n",
    "\n",
    "# Output useful metrics\n",
    "\n",
    "print(f\"Default Accuracy: {accuracy_score(converted_hot.flatten(), converted_pred.flatten())}\")\n",
    "print(f\"Q3 Accuracy: {q3_num(q3_acc(y_test_hot, y_pred1))}\")\n",
    "print(\"\\n\", classification_report(converted_hot.flatten(), converted_pred.flatten(), target_names = [\"Padding\", \"C\", \"H\", \"E\"], digits = 6))\n",
    "\n",
    "# Create and display confusion matrix\n",
    "\n",
    "cm1 = confusion_matrix(converted_hot.flatten(), converted_pred.flatten())\n",
    "disp1 = ConfusionMatrixDisplay(confusion_matrix = cm1, display_labels = [\"Padding\", \"C\", \"H\", \"E\"])\n",
    "disp1.plot()\n",
    "disp1.figure_.savefig(\"data/results/nn_test_matrix.png\")\n",
    "plt.show()"
   ]
  },
  {
   "cell_type": "code",
   "execution_count": 64,
   "id": "63c7c8c0",
   "metadata": {
    "papermill": {
     "duration": 0.894663,
     "end_time": "2024-01-09T21:59:02.860215",
     "exception": false,
     "start_time": "2024-01-09T21:59:01.965552",
     "status": "completed"
    },
    "tags": []
   },
   "outputs": [
    {
     "data": {
      "text/plain": [
       "((14, 400), (14, 400))"
      ]
     },
     "execution_count": 64,
     "metadata": {},
     "output_type": "execute_result"
    }
   ],
   "source": [
    "# test on CASP14 dataset\n",
    "df_CASP = pd.read_csv('data/processed_for_nn_predictions.csv')\n",
    "df_CASP = df_CASP.rename(columns={'fixed': 'seq', 'q3': 'sst3'})\n",
    "\n",
    "df_CASP[\"kmers\"] = df_CASP[\"seq\"].apply(kmers)\n",
    "X_CASP = tok_x.texts_to_sequences(df_CASP[\"kmers\"].values)\n",
    "X_CASP = sequence.pad_sequences(X_CASP, maxlen = maxlen, padding = \"post\")\n",
    "y_CASP = tok_y.texts_to_sequences(df_CASP[\"sst3\"].values)\n",
    "y_CASP = sequence.pad_sequences(y_CASP, maxlen = maxlen, padding = \"post\")\n",
    "\n",
    "X_CASP.shape, y_CASP.shape"
   ]
  },
  {
   "cell_type": "code",
   "execution_count": 68,
   "id": "06cb57c6-73bc-40ff-a280-fc0e688d2c86",
   "metadata": {},
   "outputs": [],
   "source": [
    "# load model, ensure k-mers match\n",
    "\n",
    "# Define or import your custom function\n",
    "@register_keras_serializable()\n",
    "def q3_acc(y_true, y_pred):\n",
    "    y = tf.argmax(y_true, axis=-1)\n",
    "    y_ = tf.argmax(y_pred, axis=-1)\n",
    "    mask = tf.greater(y, 0)\n",
    "    return K.cast(K.equal(tf.boolean_mask(y, mask), tf.boolean_mask(y_, mask)), K.floatx())\n",
    "\n",
    "model = tf.keras.models.load_model('models/model_2.keras', custom_objects={'q3_acc': q3_acc})"
   ]
  },
  {
   "cell_type": "code",
   "execution_count": 69,
   "id": "1d1540c3-541c-4790-86fc-940248734444",
   "metadata": {},
   "outputs": [
    {
     "name": "stdout",
     "output_type": "stream",
     "text": [
      "\u001b[1m1/1\u001b[0m \u001b[32m━━━━━━━━━━━━━━━━━━━━\u001b[0m\u001b[37m\u001b[0m \u001b[1m0s\u001b[0m 170ms/step\n"
     ]
    }
   ],
   "source": [
    "# Predict test set\n",
    "y_pred_CASP = model.predict(X_CASP)"
   ]
  },
  {
   "cell_type": "code",
   "execution_count": 70,
   "id": "2f8bdbac-ba9a-4db1-8d65-bef75105756a",
   "metadata": {},
   "outputs": [
    {
     "name": "stdout",
     "output_type": "stream",
     "text": [
      "===== Without Oversampling =====\n",
      "\n",
      "Default Accuracy: 0.7058928571428571\n",
      "Q3 Accuracy: 0.5342194437980652\n",
      "\n",
      "               precision    recall  f1-score   support\n",
      "\n",
      "     Padding   0.986616  1.000000  0.993263      2064\n",
      "           C   0.580114  0.680213  0.626188      1501\n",
      "           H   0.523026  0.511254  0.517073      1244\n",
      "           E   0.436090  0.293300  0.350718       791\n",
      "\n",
      "    accuracy                       0.705893      5600\n",
      "   macro avg   0.631461  0.621192  0.621811      5600\n",
      "weighted avg   0.696914  0.705893  0.698332      5600\n",
      "\n"
     ]
    },
    {
     "data": {
      "image/png": "[encoded data removed]",
      "text/plain": [
       "<Figure size 640x480 with 2 Axes>"
      ]
     },
     "metadata": {},
     "output_type": "display_data"
    }
   ],
   "source": [
    "y_CASP_hot = to_categorical(y_CASP)\n",
    "converted_hot_CASP = tf.argmax(y_CASP_hot, axis = -1).numpy()\n",
    "converted_pred_CASP = tf.argmax(y_pred_CASP, axis = -1).numpy()\n",
    "\n",
    "print(\"===== Without Oversampling =====\\n\")\n",
    "\n",
    "# Output useful metrics\n",
    "\n",
    "print(f\"Default Accuracy: {accuracy_score(converted_hot_CASP.flatten(), converted_pred_CASP.flatten())}\")\n",
    "print(f\"Q3 Accuracy: {q3_num(q3_acc(y_CASP_hot, y_pred_CASP))}\")\n",
    "print(\"\\n\", classification_report(converted_hot_CASP.flatten(), converted_pred_CASP.flatten(), target_names = [\"Padding\", \"C\", \"H\", \"E\"], digits = 6))\n",
    "\n",
    "# Create and display confusion matrix\n",
    "\n",
    "cm1 = confusion_matrix(converted_hot_CASP.flatten(), converted_pred_CASP.flatten())\n",
    "disp1 = ConfusionMatrixDisplay(confusion_matrix = cm1, display_labels = [\"Padding\", \"C\", \"H\", \"E\"])\n",
    "disp1.plot()\n",
    "disp1.figure_.savefig(\"data/results/CASP_nn_test_matrix.png\")\n",
    "plt.show()"
   ]
  },
  {
   "cell_type": "code",
   "execution_count": null,
   "id": "885b54b6-ec06-4d62-8fad-d91f3d82bcda",
   "metadata": {},
   "outputs": [],
   "source": []
  }
 ],
 "metadata": {
  "kaggle": {
   "accelerator": "gpu",
   "dataSources": [
    {
     "datasetId": 4213466,
     "sourceId": 7268634,
     "sourceType": "datasetVersion"
    }
   ],
   "dockerImageVersionId": 30627,
   "isGpuEnabled": true,
   "isInternetEnabled": true,
   "language": "python",
   "sourceType": "notebook"
  },
  "kernelspec": {
   "display_name": "Python 3 (ipykernel)",
   "language": "python",
   "name": "python3"
  },
  "language_info": {
   "codemirror_mode": {
    "name": "ipython",
    "version": 3
   },
   "file_extension": ".py",
   "mimetype": "text/x-python",
   "name": "python",
   "nbconvert_exporter": "python",
   "pygments_lexer": "ipython3",
   "version": "3.10.5"
  },
  "papermill": {
   "default_parameters": {},
   "duration": 2942.044702,
   "end_time": "2024-01-09T21:59:06.967778",
   "environment_variables": {},
   "exception": null,
   "input_path": "__notebook__.ipynb",
   "output_path": "__notebook__.ipynb",
   "parameters": {},
   "start_time": "2024-01-09T21:10:04.923076",
   "version": "2.4.0"
  }
 },
 "nbformat": 4,
 "nbformat_minor": 5
}
